{
 "cells": [
  {
   "cell_type": "code",
   "execution_count": 1,
   "metadata": {
    "collapsed": true
   },
   "outputs": [],
   "source": [
    "import sqlContext.implicits._\n",
    "import org.apache.spark.sql.functions._"
   ]
  },
  {
   "cell_type": "code",
   "execution_count": 2,
   "metadata": {
    "collapsed": true
   },
   "outputs": [],
   "source": [
    "import org.apache.spark.sql.SaveMode"
   ]
  },
  {
   "cell_type": "code",
   "execution_count": 3,
   "metadata": {
    "collapsed": false
   },
   "outputs": [],
   "source": [
    "val pageviewDF = sqlContext.read.format(\"com.databricks.spark.csv\")\n",
    "  .option(\"header\", \"true\")\n",
    "  .option(\"delimiter\", \"\\t\")\n",
    "  .option(\"mode\", \"PERMISSIVE\")\n",
    "  .option(\"inferSchema\", \"true\")\n",
    "  .load(\"file:///mnt/ephemeral/summitdata/pageviews-by-second-tsv\")"
   ]
  },
  {
   "cell_type": "code",
   "execution_count": 4,
   "metadata": {
    "collapsed": false
   },
   "outputs": [],
   "source": [
    "pageviewDF.printSchema"
   ]
  },
  {
   "cell_type": "code",
   "execution_count": 5,
   "metadata": {
    "collapsed": false
   },
   "outputs": [],
   "source": [
    "pageviewDF.first"
   ]
  },
  {
   "cell_type": "code",
   "execution_count": 6,
   "metadata": {
    "collapsed": false
   },
   "outputs": [
    {
     "data": {
      "text/plain": [
       "Long = 7200000"
      ]
     },
     "execution_count": 6,
     "metadata": {},
     "output_type": "execute_result"
    }
   ],
   "source": [
    "pageviewDF.count()"
   ]
  },
  {
   "cell_type": "markdown",
   "metadata": {
    "collapsed": true
   },
   "source": [
    "### The data has duplicates.\n",
    "\n",
    "Whilst this would not be a problem for saving to files, it causes upsert data-loss in Cassandra.  To get around this add a uuid column to the data.  As Spark does not have a built-in uuid generator, we simply define a udf for it.  To define a udf, take your function, and "
   ]
  },
  {
   "cell_type": "code",
   "execution_count": 7,
   "metadata": {
    "collapsed": false
   },
   "outputs": [],
   "source": [
    "def uuid_as_string():String = java.util.UUID.randomUUID().toString()"
   ]
  },
  {
   "cell_type": "code",
   "execution_count": 8,
   "metadata": {
    "collapsed": false
   },
   "outputs": [],
   "source": [
    "val udf_uuid = udf(() => uuid_as_string)"
   ]
  },
  {
   "cell_type": "code",
   "execution_count": 9,
   "metadata": {
    "collapsed": false
   },
   "outputs": [
    {
     "data": {
      "text/plain": [
       "org.apache.spark.sql.UserDefinedFunction = UserDefinedFunction(<function0>,StringType,List())"
      ]
     },
     "execution_count": 9,
     "metadata": {},
     "output_type": "execute_result"
    }
   ],
   "source": [
    "udf_uuid"
   ]
  },
  {
   "cell_type": "code",
   "execution_count": null,
   "metadata": {
    "collapsed": false
   },
   "outputs": [],
   "source": [
    "%%cql create keyspace if not exists pageviews_ks with replication = {'class':'SimpleStrategy','replication_factor':1}"
   ]
  },
  {
   "cell_type": "code",
   "execution_count": 11,
   "metadata": {
    "collapsed": false
   },
   "outputs": [],
   "source": [
    "%%cql create table if not exists pageviews_ks.pageviews(\n",
    "  uid uuid,  \n",
    "  ts text,\n",
    "  site text,\n",
    "  requests int,\n",
    "  PRIMARY KEY (uid)\n",
    ")"
   ]
  },
  {
   "cell_type": "code",
   "execution_count": 12,
   "metadata": {
    "collapsed": false
   },
   "outputs": [],
   "source": [
    "val with_uuid = pageviewDF.select(udf_uuid().as(\"uid\"), $\"timestamp\", $\"site\", $\"requests\")"
   ]
  },
  {
   "cell_type": "code",
   "execution_count": 13,
   "metadata": {
    "collapsed": false
   },
   "outputs": [
    {
     "name": "stdout",
     "output_type": "stream",
     "text": [
      "root\n",
      " |-- uid: string (nullable = true)\n",
      " |-- timestamp: string (nullable = true)\n",
      " |-- site: string (nullable = true)\n",
      " |-- requests: integer (nullable = true)\n",
      "\n"
     ]
    }
   ],
   "source": [
    "with_uuid.printSchema"
   ]
  },
  {
   "cell_type": "markdown",
   "metadata": {},
   "source": [
    "Save dataframe to Cassandra.  This takes a few minutes."
   ]
  },
  {
   "cell_type": "code",
   "execution_count": 14,
   "metadata": {
    "collapsed": false
   },
   "outputs": [],
   "source": [
    "val renamed = with_uuid.withColumnRenamed(\"timestamp\", \"ts\")\n",
    "\n",
    "renamed.write\n",
    ".format(\"org.apache.spark.sql.cassandra\")\n",
    ".options(Map( \"table\" -> \"pageviews\", \"keyspace\" -> \"pageviews_ks\"))\n",
    ".mode(SaveMode.Overwrite)\n",
    ".save()"
   ]
  },
  {
   "cell_type": "markdown",
   "metadata": {},
   "source": [
    "### Watch it run in the spark UI"
   ]
  },
  {
   "cell_type": "code",
   "execution_count": 15,
   "metadata": {
    "collapsed": false
   },
   "outputs": [
    {
     "data": {
      "text/html": [
       "<iframe src=\"http://52.36.249.27:4040/stages\" width=1000 height=500/>"
      ]
     },
     "execution_count": 15,
     "metadata": {},
     "output_type": "execute_result"
    }
   ],
   "source": [
    "val addr = java.net.InetAddress.getByName(\"node0_ext\").getHostAddress\n",
    "kernel.magics.html(s\"\"\"<iframe src=\"http://$addr:4040/stages\" width=1000 height=500/>\"\"\")"
   ]
  },
  {
   "cell_type": "markdown",
   "metadata": {
    "collapsed": true
   },
   "source": [
    "### Check it out ..."
   ]
  },
  {
   "cell_type": "code",
   "execution_count": 16,
   "metadata": {
    "collapsed": false
   },
   "outputs": [
    {
     "data": {
      "text/html": [
       "<table><tr><th>uid</th><th>requests</th><th>site</th><th>ts</th></tr><tr><td>33849e63-6787-42b1-843b-3c066308394b</td><td>958</td><td>mobile</td><td>2015-03-16T10:36:11</td></tr><tr><td>89190499-d45c-4767-9002-d52efc19a4d8</td><td>1223</td><td>mobile</td><td>2015-04-17T14:58:46</td></tr><tr><td>c03d6a37-7b20-4aad-8087-0c10bf715fa9</td><td>1656</td><td>mobile</td><td>2015-04-05T03:30:06</td></tr><tr><td>da876a70-35c9-4713-b4b0-448b434de2b5</td><td>1338</td><td>mobile</td><td>2015-04-02T19:52:50</td></tr><tr><td>4ed32969-f1e3-447c-b32b-752229263623</td><td>1264</td><td>mobile</td><td>2015-04-18T00:34:40</td></tr></table>"
      ]
     },
     "execution_count": 16,
     "metadata": {},
     "output_type": "execute_result"
    }
   ],
   "source": [
    "%%cql select * from pageviews_ks.pageviews limit 5"
   ]
  },
  {
   "cell_type": "code",
   "execution_count": null,
   "metadata": {
    "collapsed": true
   },
   "outputs": [],
   "source": []
  }
 ],
 "metadata": {
  "kernelspec": {
   "display_name": "Spark-DSE Cluster",
   "language": "scala",
   "name": "spark-dse-cluster"
  },
  "language_info": {
   "file_extension": ".scala",
   "name": "scala"
  }
 },
 "nbformat": 4,
 "nbformat_minor": 0
}
