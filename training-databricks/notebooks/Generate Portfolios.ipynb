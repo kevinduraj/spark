{
 "cells": [
  {
   "cell_type": "markdown",
   "metadata": {},
   "source": [
    "### Generate a set of random stock porfolios\n",
    "\n",
    "As inputs, we have \n",
    "- 4000names.csv\n",
    "- stock_symbols.csv"
   ]
  },
  {
   "cell_type": "code",
   "execution_count": null,
   "metadata": {
    "collapsed": false
   },
   "outputs": [],
   "source": [
    "val names = sc.textFile(\"file:///root/summit-spark/notebooks-unfinished/datastax/4000names.csv\")\n",
    "val num_names = names.cache.count"
   ]
  },
  {
   "cell_type": "markdown",
   "metadata": {},
   "source": [
    "### Read in the stock symbols, and give each one a number"
   ]
  },
  {
   "cell_type": "code",
   "execution_count": null,
   "metadata": {
    "collapsed": false
   },
   "outputs": [],
   "source": [
    "val stock_symbols = sc.textFile(\"file:///root/summit-spark/notebooks-unfinished/datastax/stock_symbols.csv\")\n",
    ".zipWithIndex\n",
    ".map(_.swap)\n",
    "val num_stock_symbols = stock_symbols.cache.count.toInt"
   ]
  },
  {
   "cell_type": "markdown",
   "metadata": {},
   "source": [
    "### For each name, pick a random number and duplicate it that number of times\n",
    "\n",
    "Do duplicate it, we take the name and use List.fill to turn the simple name into a list of several copies of the same name.  We use flatMap so instead of emitting a List for each row (list of lists), we flatten it to just emit the inner lists.\n",
    "\n",
    "- Why do we do it within a mapParitions?"
   ]
  },
  {
   "cell_type": "code",
   "execution_count": null,
   "metadata": {
    "collapsed": false
   },
   "outputs": [],
   "source": [
    "val multi_names = names.mapPartitions( r => {val rnd = scala.util.Random;\n",
    "                                             r.flatMap( n => List.fill(rnd.nextInt(12))(n)) } )"
   ]
  },
  {
   "cell_type": "markdown",
   "metadata": {},
   "source": [
    "### for each row, add a random stock (by number)"
   ]
  },
  {
   "cell_type": "code",
   "execution_count": null,
   "metadata": {
    "collapsed": false
   },
   "outputs": [],
   "source": [
    "val withstockIndex = multi_names.mapPartitions( r => {val rnd = scala.util.Random;\n",
    "       r.map( n => (rnd.nextInt(num_stock_symbols).toLong,(n, rnd.nextInt(15) *100 + 100))) } )"
   ]
  },
  {
   "cell_type": "markdown",
   "metadata": {},
   "source": [
    "### Join the name, stock # with the stock symbols"
   ]
  },
  {
   "cell_type": "code",
   "execution_count": null,
   "metadata": {
    "collapsed": false
   },
   "outputs": [],
   "source": [
    "val raw_portfolios = withstockIndex.join(stock_symbols)"
   ]
  },
  {
   "cell_type": "code",
   "execution_count": null,
   "metadata": {
    "collapsed": false
   },
   "outputs": [],
   "source": [
    "%%cql create table if not exists stock.portfolios (\n",
    "        name text,\n",
    "        stock_symbol text,\n",
    "        quantity int,\n",
    "        price float,\n",
    "        value float,\n",
    "        primary key (name, stock_symbol))"
   ]
  },
  {
   "cell_type": "markdown",
   "metadata": {},
   "source": [
    "### Save it"
   ]
  },
  {
   "cell_type": "code",
   "execution_count": null,
   "metadata": {
    "collapsed": false
   },
   "outputs": [],
   "source": [
    "raw_portfolios.map{ case (n, ((name,qty),sym)) => (name, sym, qty)}\n",
    " .saveToCassandra(\"stock\",\"portfolios\",SomeColumns(\"name\",\"stock_symbol\",\"quantity\"))"
   ]
  },
  {
   "cell_type": "markdown",
   "metadata": {},
   "source": [
    "### Check it out"
   ]
  },
  {
   "cell_type": "code",
   "execution_count": null,
   "metadata": {
    "collapsed": false
   },
   "outputs": [],
   "source": [
    "%%cql select * from stock.portfolios limit 20;"
   ]
  },
  {
   "cell_type": "code",
   "execution_count": null,
   "metadata": {
    "collapsed": true
   },
   "outputs": [],
   "source": []
  }
 ],
 "metadata": {
  "kernelspec": {
   "display_name": "Spark-DSE Local",
   "language": "scala",
   "name": "spark-dse-local"
  },
  "language_info": {
   "file_extension": ".scala",
   "name": "scala"
  }
 },
 "nbformat": 4,
 "nbformat_minor": 0
}
