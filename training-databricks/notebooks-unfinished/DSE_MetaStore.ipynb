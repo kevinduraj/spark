{
 "cells": [
  {
   "cell_type": "markdown",
   "metadata": {},
   "source": [
    "Let's take our HiveContext:"
   ]
  },
  {
   "cell_type": "code",
   "execution_count": 6,
   "metadata": {
    "collapsed": false
   },
   "outputs": [
    {
     "data": {
      "text/plain": [
       "org.apache.spark.sql.hive.HiveContext = org.apache.spark.sql.hive.HiveContext@12f43d7a"
      ]
     },
     "execution_count": 6,
     "metadata": {},
     "output_type": "execute_result"
    }
   ],
   "source": [
    "sqlContext"
   ]
  },
  {
   "cell_type": "code",
   "execution_count": 7,
   "metadata": {
    "collapsed": false
   },
   "outputs": [
    {
     "name": "stdout",
     "output_type": "stream",
     "text": [
      "+---------+-----------+\n",
      "|tableName|isTemporary|\n",
      "+---------+-----------+\n",
      "+---------+-----------+\n",
      "\n"
     ]
    }
   ],
   "source": [
    "sqlContext.sql(\"show tables\").show"
   ]
  },
  {
   "cell_type": "code",
   "execution_count": 8,
   "metadata": {
    "collapsed": false
   },
   "outputs": [
    {
     "data": {
      "text/html": [
       "<table><tr></tr></table>"
      ]
     },
     "execution_count": 8,
     "metadata": {},
     "output_type": "execute_result"
    }
   ],
   "source": [
    "%%cql CREATE KEYSPACE xyz\n",
    "WITH replication = {\n",
    "  'class': 'SimpleStrategy', \n",
    "  'replication_factor' : 1\n",
    "};"
   ]
  },
  {
   "cell_type": "code",
   "execution_count": 9,
   "metadata": {
    "collapsed": false
   },
   "outputs": [
    {
     "data": {
      "text/html": [
       "<table><tr></tr></table>"
      ]
     },
     "execution_count": 9,
     "metadata": {},
     "output_type": "execute_result"
    }
   ],
   "source": [
    "%%cql CREATE TABLE xyz.abc (\n",
    "  i INT,\n",
    "  j INT,\n",
    "  t TEXT,\n",
    "  PRIMARY KEY (i, j)\n",
    ");"
   ]
  },
  {
   "cell_type": "code",
   "execution_count": 10,
   "metadata": {
    "collapsed": false
   },
   "outputs": [
    {
     "name": "stdout",
     "output_type": "stream",
     "text": [
      "+---+\n",
      "|_c0|\n",
      "+---+\n",
      "|  0|\n",
      "+---+\n",
      "\n"
     ]
    }
   ],
   "source": [
    "sqlContext.sql(\"select count(*) from xyz.abc\").show()"
   ]
  },
  {
   "cell_type": "code",
   "execution_count": 11,
   "metadata": {
    "collapsed": false
   },
   "outputs": [
    {
     "data": {
      "text/html": [
       "<table><tr><th>key</th><th>entity</th></tr><tr><td>_1_musiccsv</td><td>org.apache.hadoop.hive.metastore.api.Database::musiccsv</td></tr><tr><td>_1_musiccsv</td><td>org.apache.hadoop.hive.metastore.api.Table::tracks_by_album</td></tr><tr><td>_1_default</td><td>org.apache.hadoop.hive.metastore.api.Database::default</td></tr><tr><td>_1___databases__</td><td>org.apache.hadoop.hive.metastore.api.Database::default</td></tr><tr><td>_1___databases__</td><td>org.apache.hadoop.hive.metastore.api.Database::dse_leases</td></tr><tr><td>_1___databases__</td><td>org.apache.hadoop.hive.metastore.api.Database::musiccsv</td></tr><tr><td>_1___databases__</td><td>org.apache.hadoop.hive.metastore.api.Database::solr_admin</td></tr><tr><td>_1___databases__</td><td>org.apache.hadoop.hive.metastore.api.Database::xyz</td></tr><tr><td>_1_dse_leases</td><td>org.apache.hadoop.hive.metastore.api.Database::dse_leases</td></tr><tr><td>_1_dse_leases</td><td>org.apache.hadoop.hive.metastore.api.Table::leases</td></tr><tr><td>_1_xyz</td><td>org.apache.hadoop.hive.metastore.api.Database::xyz</td></tr><tr><td>_1_xyz</td><td>org.apache.hadoop.hive.metastore.api.Table::abc</td></tr><tr><td>_1_solr_admin</td><td>org.apache.hadoop.hive.metastore.api.Database::solr_admin</td></tr><tr><td>_1_solr_admin</td><td>org.apache.hadoop.hive.metastore.api.Table::solr_resources</td></tr><tr><td>_1___meta__</td><td>org.apache.hadoop.hive.metastore.api.Role::admin</td></tr><tr><td>_1___meta__</td><td>org.apache.hadoop.hive.metastore.api.Role::public</td></tr></table>"
      ]
     },
     "execution_count": 11,
     "metadata": {},
     "output_type": "execute_result"
    }
   ],
   "source": [
    "%%cql select key, entity from \"HiveMetaStore\".sparkmetastore;"
   ]
  },
  {
   "cell_type": "code",
   "execution_count": 12,
   "metadata": {
    "collapsed": false
   },
   "outputs": [
    {
     "name": "stdout",
     "output_type": "stream",
     "text": [
      "+---------+-----------+\n",
      "|tableName|isTemporary|\n",
      "+---------+-----------+\n",
      "+---------+-----------+\n",
      "\n"
     ]
    }
   ],
   "source": [
    "sqlContext.sql(\"show tables\").show"
   ]
  },
  {
   "cell_type": "code",
   "execution_count": 13,
   "metadata": {
    "collapsed": false
   },
   "outputs": [
    {
     "name": "stdout",
     "output_type": "stream",
     "text": [
      "+---+\n",
      "|_c0|\n",
      "+---+\n",
      "|  0|\n",
      "+---+\n",
      "\n"
     ]
    }
   ],
   "source": [
    "sqlContext.sql(\"select count(*) from xyz.abc\").show()"
   ]
  },
  {
   "cell_type": "code",
   "execution_count": 14,
   "metadata": {
    "collapsed": false
   },
   "outputs": [
    {
     "data": {
      "text/html": [
       "<table><tr><th>key</th><th>entity</th></tr><tr><td>_1_musiccsv</td><td>org.apache.hadoop.hive.metastore.api.Database::musiccsv</td></tr><tr><td>_1_musiccsv</td><td>org.apache.hadoop.hive.metastore.api.Table::tracks_by_album</td></tr><tr><td>_1_default</td><td>org.apache.hadoop.hive.metastore.api.Database::default</td></tr><tr><td>_1___databases__</td><td>org.apache.hadoop.hive.metastore.api.Database::default</td></tr><tr><td>_1___databases__</td><td>org.apache.hadoop.hive.metastore.api.Database::dse_leases</td></tr><tr><td>_1___databases__</td><td>org.apache.hadoop.hive.metastore.api.Database::musiccsv</td></tr><tr><td>_1___databases__</td><td>org.apache.hadoop.hive.metastore.api.Database::solr_admin</td></tr><tr><td>_1___databases__</td><td>org.apache.hadoop.hive.metastore.api.Database::xyz</td></tr><tr><td>_1_dse_leases</td><td>org.apache.hadoop.hive.metastore.api.Database::dse_leases</td></tr><tr><td>_1_dse_leases</td><td>org.apache.hadoop.hive.metastore.api.Table::leases</td></tr><tr><td>_1_xyz</td><td>org.apache.hadoop.hive.metastore.api.Database::xyz</td></tr><tr><td>_1_xyz</td><td>org.apache.hadoop.hive.metastore.api.Table::abc</td></tr><tr><td>_1_solr_admin</td><td>org.apache.hadoop.hive.metastore.api.Database::solr_admin</td></tr><tr><td>_1_solr_admin</td><td>org.apache.hadoop.hive.metastore.api.Table::solr_resources</td></tr><tr><td>_1___meta__</td><td>org.apache.hadoop.hive.metastore.api.Role::admin</td></tr><tr><td>_1___meta__</td><td>org.apache.hadoop.hive.metastore.api.Role::public</td></tr></table>"
      ]
     },
     "execution_count": 14,
     "metadata": {},
     "output_type": "execute_result"
    }
   ],
   "source": [
    "%%cql select key, entity from \"HiveMetaStore\".sparkmetastore;"
   ]
  },
  {
   "cell_type": "code",
   "execution_count": null,
   "metadata": {
    "collapsed": true
   },
   "outputs": [],
   "source": []
  }
 ],
 "metadata": {
  "kernelspec": {
   "display_name": "Spark-DSE Cluster",
   "language": "scala",
   "name": "spark-dse-cluster"
  },
  "language_info": {
   "name": "scala"
  }
 },
 "nbformat": 4,
 "nbformat_minor": 0
}
