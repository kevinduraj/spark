{
 "cells": [
  {
   "cell_type": "markdown",
   "metadata": {},
   "source": [
    "## Examine a table using CQL\n",
    "(Jupyter notebook feature)\n",
    "Use the %%Cql Magic to prefix your CQL."
   ]
  },
  {
   "cell_type": "code",
   "execution_count": null,
   "metadata": {
    "collapsed": false
   },
   "outputs": [],
   "source": [
    "%%showschema cloud1.ldomain"
   ]
  },
  {
   "cell_type": "code",
   "execution_count": 8,
   "metadata": {
    "collapsed": false
   },
   "outputs": [
    {
     "data": {
      "text/html": [
       "<table><tr><th>domain</th><th>total</th></tr><tr><td>decoybetty.com</td><td>1</td></tr><tr><td>thegreenwineguide.com</td><td>108</td></tr><tr><td>trotmanautomotivegroup.com</td><td>1</td></tr><tr><td>yakultusa.com</td><td>2</td></tr><tr><td>greatlakesgelatin.com</td><td>3</td></tr></table>"
      ]
     },
     "execution_count": 8,
     "metadata": {},
     "output_type": "execute_result"
    }
   ],
   "source": [
    "%%Cql select * from cloud1.ldomain limit 5"
   ]
  },
  {
   "cell_type": "markdown",
   "metadata": {},
   "source": [
    "## Creating RDDs from Cassandra Tables\n",
    "* Can add a where clause to push down filter\n",
    "* Creates and RDD of CassandraRow objects\n",
    "* .as will map it to a case class or tuples for ease of use\n"
   ]
  },
  {
   "cell_type": "code",
   "execution_count": 9,
   "metadata": {
    "collapsed": false
   },
   "outputs": [
    {
     "data": {
      "text/plain": [
       "com.datastax.spark.connector.rdd.CassandraTableScanRDD[com.datastax.spark.connector.CassandraRow] = CassandraTableScanRDD[3] at RDD at CassandraRDD.scala:15"
      ]
     },
     "execution_count": 9,
     "metadata": {},
     "output_type": "execute_result"
    }
   ],
   "source": [
    "val tracks = sc.cassandraTable(\"cloud1\",\"ldomain\")\n",
    "tracks"
   ]
  },
  {
   "cell_type": "code",
   "execution_count": 10,
   "metadata": {
    "collapsed": false
   },
   "outputs": [
    {
     "data": {
      "text/plain": [
       "com.datastax.spark.connector.CassandraRow = CassandraRow{domain: decoybetty.com, total: 1}"
      ]
     },
     "execution_count": 10,
     "metadata": {},
     "output_type": "execute_result"
    }
   ],
   "source": [
    "tracks.first\n"
   ]
  },
  {
   "cell_type": "markdown",
   "metadata": {},
   "source": [
    "### get the album and track in a tuple.  This is the new syntax:"
   ]
  },
  {
   "cell_type": "code",
   "execution_count": 11,
   "metadata": {
    "collapsed": false
   },
   "outputs": [
    {
     "data": {
      "text/plain": [
       "com.datastax.spark.connector.rdd.CassandraTableScanRDD[(String, Integer)] = CassandraTableScanRDD[6] at RDD at CassandraRDD.scala:15"
      ]
     },
     "execution_count": 11,
     "metadata": {},
     "output_type": "execute_result"
    }
   ],
   "source": [
    "val albumTracks = sc.cassandraTable[(String,Integer)](\"cloud1\",\n",
    "\"ldomain\").select(\"domain\",\"total\")\n",
    "albumTracks"
   ]
  },
  {
   "cell_type": "markdown",
   "metadata": {},
   "source": [
    "The first 10 rows as tuples ...."
   ]
  },
  {
   "cell_type": "code",
   "execution_count": 12,
   "metadata": {
    "collapsed": false
   },
   "outputs": [
    {
     "name": "stdout",
     "output_type": "stream",
     "text": [
      "(decoybetty.com,1)\n",
      "(thegreenwineguide.com,108)\n",
      "(trotmanautomotivegroup.com,1)\n",
      "(yakultusa.com,2)\n",
      "(greatlakesgelatin.com,3)\n",
      "(dgs.no,1)\n",
      "(brbspa.it,2)\n",
      "(wxcjpj.com,5)\n",
      "(aptoide.com,32)\n",
      "(online-language-translations.co.uk,1)\n"
     ]
    }
   ],
   "source": [
    "albumTracks.take(10) foreach println"
   ]
  },
  {
   "cell_type": "markdown",
   "metadata": {},
   "source": [
    "### Create RDDs from Cassandra Tables and return an RDD of case class objects\n",
    ".as() will map the rdd to a case class\n"
   ]
  },
  {
   "cell_type": "code",
   "execution_count": 13,
   "metadata": {
    "collapsed": true
   },
   "outputs": [],
   "source": [
    "case class Track(domain: String,\n",
    "total:Int)"
   ]
  },
  {
   "cell_type": "code",
   "execution_count": 14,
   "metadata": {
    "collapsed": false
   },
   "outputs": [
    {
     "data": {
      "text/plain": [
       "com.datastax.spark.connector.rdd.CassandraTableScanRDD[Track] = CassandraTableScanRDD[8] at RDD at CassandraRDD.scala:15"
      ]
     },
     "execution_count": 14,
     "metadata": {},
     "output_type": "execute_result"
    }
   ],
   "source": [
    "val tracks = sc.cassandraTable[Track](\"cloud1\",\"ldomain\")\n",
    "tracks"
   ]
  },
  {
   "cell_type": "code",
   "execution_count": 15,
   "metadata": {
    "collapsed": false
   },
   "outputs": [
    {
     "name": "stdout",
     "output_type": "stream",
     "text": [
      "Track(decoybetty.com,1)\n",
      "Track(thegreenwineguide.com,108)\n",
      "Track(trotmanautomotivegroup.com,1)\n",
      "Track(yakultusa.com,2)\n",
      "Track(greatlakesgelatin.com,3)\n"
     ]
    }
   ],
   "source": [
    "tracks take 5 foreach println"
   ]
  },
  {
   "cell_type": "markdown",
   "metadata": {},
   "source": [
    "## Some other useful actions ...\n",
    "* first – same as take(1)(0)\n",
    "* collect – bring everything back to the caller as a scala array\n",
    "* saveToCassandra\n",
    "* count\n"
   ]
  },
  {
   "cell_type": "code",
   "execution_count": 16,
   "metadata": {
    "collapsed": false
   },
   "outputs": [
    {
     "data": {
      "text/plain": [
       "Track = Track(decoybetty.com,1)"
      ]
     },
     "execution_count": 16,
     "metadata": {},
     "output_type": "execute_result"
    }
   ],
   "source": [
    "tracks.first"
   ]
  },
  {
   "cell_type": "code",
   "execution_count": 17,
   "metadata": {
    "collapsed": false
   },
   "outputs": [
    {
     "data": {
      "text/plain": [
       "Long = 1620382"
      ]
     },
     "execution_count": 17,
     "metadata": {},
     "output_type": "execute_result"
    }
   ],
   "source": [
    "tracks.count"
   ]
  },
  {
   "cell_type": "markdown",
   "metadata": {},
   "source": [
    "## Some Typical Transformations\n",
    "filter, map, distinct"
   ]
  },
  {
   "cell_type": "markdown",
   "metadata": {},
   "source": [
    "Show tracks from 1989"
   ]
  },
  {
   "cell_type": "code",
   "execution_count": 28,
   "metadata": {
    "collapsed": false
   },
   "outputs": [
    {
     "name": "stdout",
     "output_type": "stream",
     "text": [
      "Track(oscaro.es,3426581)\n",
      "Track(fvd.de,2931849)\n",
      "Track(mihav.com,7136664)\n",
      "Track(tanners-wines.co.uk,103532249)\n",
      "Track(industrialmanuals.com,19220462)\n",
      "Track(hbees.com,2127802)\n",
      "Track(usermed.com,6366922)\n",
      "Track(fotki.com,5012496)\n",
      "Track(efaucets.com,22238160)\n",
      "Track(alifmultimedia.com,2034081)\n",
      "Track(chinesemedicinetimes.com,12577279)\n",
      "Track(truthinshredding.com,9018942)\n",
      "Track(SharjahYellowPagesOnline.com,2170827)\n",
      "Track(surfline.dk,2746163)\n",
      "Track(it-gnoth.de,4587215)\n",
      "Track(thurstontalk.com,8916498)\n",
      "Track(kupimauto.sk,14752346)\n",
      "Track(callcenterbestpractices.com,18596324)\n",
      "Track(bogg.com,2833131)\n",
      "Track(uni-trier.de,2474913)\n"
     ]
    }
   ],
   "source": [
    "tracks.filter(x => x.total > 2000000).take(20).foreach(println)\n"
   ]
  },
  {
   "cell_type": "code",
   "execution_count": null,
   "metadata": {
    "collapsed": false
   },
   "outputs": [],
   "source": [
    "tracks.collect() take 10 foreach println"
   ]
  },
  {
   "cell_type": "markdown",
   "metadata": {},
   "source": [
    "**This can also be accomplished with a .where function on the cassandraTable to push the work into Cassandra**"
   ]
  },
  {
   "cell_type": "markdown",
   "metadata": {},
   "source": [
    "map the cassandra table to 2-tuples "
   ]
  },
  {
   "cell_type": "code",
   "execution_count": 30,
   "metadata": {
    "collapsed": false
   },
   "outputs": [
    {
     "name": "stdout",
     "output_type": "stream",
     "text": [
      "(decoybetty.com,1)\n",
      "(thegreenwineguide.com,108)\n",
      "(trotmanautomotivegroup.com,1)\n",
      "(yakultusa.com,2)\n",
      "(greatlakesgelatin.com,3)\n"
     ]
    }
   ],
   "source": [
    "tracks.map(x =>(x.domain, x.total)).take(5).foreach(println)"
   ]
  },
  {
   "cell_type": "markdown",
   "metadata": {},
   "source": [
    "Combine operations into a single graphe or even a single statement"
   ]
  },
  {
   "cell_type": "code",
   "execution_count": null,
   "metadata": {
    "collapsed": false
   },
   "outputs": [],
   "source": [
    "tracks.filter(x => x.album_year == 1990).\n",
    "map(x => (x.album_title, x.track_title)).\n",
    "take(5).foreach(println)\n"
   ]
  },
  {
   "cell_type": "markdown",
   "metadata": {},
   "source": [
    "## Pair RDDs – Special operations on RDD of  2-Tuples\n",
    "* Think of each tuple as (Key,Value)\n",
    "* countByKey\n",
    "* groupByKey\n",
    "* reduceByKey\n"
   ]
  },
  {
   "cell_type": "code",
   "execution_count": null,
   "metadata": {
    "collapsed": true
   },
   "outputs": [],
   "source": [
    "val albumTracks = tracks.map(t => (t.album_title, t.track_title))"
   ]
  },
  {
   "cell_type": "markdown",
   "metadata": {},
   "source": [
    "How many tracks in each album?"
   ]
  },
  {
   "cell_type": "code",
   "execution_count": null,
   "metadata": {
    "collapsed": false
   },
   "outputs": [],
   "source": [
    "val trackTitles = albumTracks.countByKey\n",
    "trackTitles"
   ]
  },
  {
   "cell_type": "markdown",
   "metadata": {},
   "source": [
    "Why not sort the results descending? toList turns the map into a list of tuples and sort by the negative of the count\n",
    "\n",
    "## Top 10 List\n"
   ]
  },
  {
   "cell_type": "code",
   "execution_count": null,
   "metadata": {
    "collapsed": false
   },
   "outputs": [],
   "source": [
    "albumTracks.countByKey.toList.sortBy( t => -t._2 ) take 10 foreach println"
   ]
  },
  {
   "cell_type": "code",
   "execution_count": null,
   "metadata": {
    "collapsed": false
   },
   "outputs": [],
   "source": [
    "tracks.filter(_.album_title == \"Greatest Hits\").collect foreach println"
   ]
  },
  {
   "cell_type": "code",
   "execution_count": null,
   "metadata": {
    "collapsed": true
   },
   "outputs": [],
   "source": [
    "var x:Option[Int] = Some(5)"
   ]
  },
  {
   "cell_type": "code",
   "execution_count": null,
   "metadata": {
    "collapsed": false
   },
   "outputs": [],
   "source": [
    "x"
   ]
  },
  {
   "cell_type": "code",
   "execution_count": null,
   "metadata": {
    "collapsed": true
   },
   "outputs": [],
   "source": [
    "x = None"
   ]
  },
  {
   "cell_type": "code",
   "execution_count": null,
   "metadata": {
    "collapsed": false
   },
   "outputs": [],
   "source": [
    "x.orElse(Some(0))"
   ]
  },
  {
   "cell_type": "code",
   "execution_count": null,
   "metadata": {
    "collapsed": false
   },
   "outputs": [],
   "source": [
    "tracks.filter(_.album_title == \"Greatest Hits\").saveAsTextFile(\"cfs:///tmp/tracks2\")"
   ]
  },
  {
   "cell_type": "code",
   "execution_count": null,
   "metadata": {
    "collapsed": true
   },
   "outputs": [],
   "source": []
  }
 ],
 "metadata": {
  "kernelspec": {
   "display_name": "Spark-DSE Cluster",
   "language": "scala",
   "name": "spark-dse-cluster"
  },
  "language_info": {
   "name": "scala"
  }
 },
 "nbformat": 4,
 "nbformat_minor": 0
}
