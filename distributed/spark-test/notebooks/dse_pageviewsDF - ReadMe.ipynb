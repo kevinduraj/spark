{
 "cells": [
  {
   "cell_type": "markdown",
   "metadata": {
    "collapsed": true
   },
   "source": [
    "// Databricks notebook source exported at Wed, 10 Feb 2016 20:42:12 UTC\n",
    "\n",
    "\n",
    "#![Wikipedia Logo](http://sameerf-dbc-labs.s3-website-us-west-2.amazonaws.com/data/wikipedia/images/w_logo_for_labs.png)\n",
    "\n",
    "# Explore English Wikipedia pageviews by second\n",
    "### Time to complete: 15 minutes\n",
    "\n",
    "#### Business questions:\n",
    "\n",
    "* Question # 1) How many rows in the table refer to *mobile* vs *desktop* site requests?\n",
    "* Question # 2) How many total incoming requests were to the *mobile* site vs the *desktop* site?\n",
    "* Question # 3) What is the start and end range of time for the pageviews data? How many days total of data do we have?\n",
    "* Question # 4) Which day of the week does Wikipedia get the most traffic?\n",
    "* Question #  5) Can you visualize both the mobile and desktop site requests together in a line chart to compare traffic between both sites by day of the week?\n",
    "\n",
    "#### Technical Accomplishments:\n",
    "\n",
    "* Use Spark's Scala and Python APIs\n",
    "* Learn what a `sqlContext` is and how to use it\n",
    "* Load a 255 MB tab separated file into a DataFrame\n",
    "* Cache a DataFrame into memory\n",
    "* Run some DataFrame transformations and actions to create visualizations\n",
    "* Learn the following DataFrame operations: `show()`, `printSchema()`, `orderBy()`, `filter()`, `groupBy()`, `cast()`, `alias()`, `distinct()`, `count()`, `sum()`, `avg()`, `min()`, `max()`\n",
    "* Write a User Defined Function (UDF)\n",
    "* Join two DataFrames\n",
    "* Bonus: Use Matplotlib and Python code within a Scala notebook to create a line chart\n",
    "\n",
    "\n",
    "\n",
    "Dataset: http://datahub.io/en/dataset/english-wikipedia-pageviews-by-second"
   ]
  },
  {
   "cell_type": "code",
   "execution_count": 1,
   "metadata": {
    "collapsed": true
   },
   "outputs": [],
   "source": [
    "import sqlContext.implicits._"
   ]
  },
  {
   "cell_type": "markdown",
   "metadata": {
    "collapsed": true
   },
   "source": [
    "### Introduction to running Scala in Databricks Notebooks\n",
    "\n",
    "Place your cursor inside the cells below, one at a time, and hit \"Shift\" + \"Enter\" to execute the code:"
   ]
  },
  {
   "cell_type": "code",
   "execution_count": 2,
   "metadata": {
    "collapsed": true
   },
   "outputs": [],
   "source": [
    "// This is a Scala cell. You can run normal Scala code here...\n",
    "val x = 1 + 7"
   ]
  },
  {
   "cell_type": "code",
   "execution_count": 3,
   "metadata": {
    "collapsed": true
   },
   "outputs": [],
   "source": [
    "// Here is another Scala cell, that adds 2 to x\n",
    "val y = 2 + x"
   ]
  },
  {
   "cell_type": "code",
   "execution_count": 4,
   "metadata": {
    "collapsed": false
   },
   "outputs": [
    {
     "name": "stdout",
     "output_type": "stream",
     "text": [
      "y is equal to 10\n"
     ]
    }
   ],
   "source": [
    "// This line uses string interpolation to prints what y is equal to...\n",
    "println(s\"y is equal to ${y}\")"
   ]
  },
  {
   "cell_type": "code",
   "execution_count": 5,
   "metadata": {
    "collapsed": false
   },
   "outputs": [
    {
     "name": "stdout",
     "output_type": "stream",
     "text": [
      "This was last run on: Fri Feb 26 05:42:12 UTC 2016\n"
     ]
    }
   ],
   "source": [
    "// You can import additional modules and use them\n",
    "import java.util.Date\n",
    "println(s\"This was last run on: ${new Date}\")"
   ]
  },
  {
   "cell_type": "markdown",
   "metadata": {
    "collapsed": true
   },
   "source": [
    "### DataFrames\n",
    "A `sqlContext` object is your entry point for working with structured data (rows and columns) in Spark.\n",
    "\n",
    "Let's use the `sqlContext` to read a table of the English Wikipedia pageviews per second."
   ]
  },
  {
   "cell_type": "code",
   "execution_count": 6,
   "metadata": {
    "collapsed": false
   },
   "outputs": [
    {
     "data": {
      "text/plain": [
       "org.apache.spark.sql.hive.HiveContext = org.apache.spark.sql.hive.HiveContext@1ab08e83"
      ]
     },
     "execution_count": 6,
     "metadata": {},
     "output_type": "execute_result"
    }
   ],
   "source": [
    "// Notice that the sqlContext is is actually a HiveContext\n",
    "sqlContext"
   ]
  },
  {
   "cell_type": "markdown",
   "metadata": {
    "collapsed": true
   },
   "source": [
    " A `HiveContext` includes additional features like the ability to write queries using the more complete HiveQL parser, access to Hive UDFs, and the ability to read data from Hive tables. In general, you should always aim to use the `HiveContext` over the more limited `sqlContext`."
   ]
  },
  {
   "cell_type": "markdown",
   "metadata": {
    "collapsed": true
   },
   "source": [
    "Create a DataFrame named `pageviewsDF` and understand its schema:"
   ]
  },
  {
   "cell_type": "code",
   "execution_count": 7,
   "metadata": {
    "collapsed": false
   },
   "outputs": [],
   "source": [
    "// You need to preload this data into DSE by running a command from a previous notebook.\n",
    "\n",
    "val pageviewsDF = sqlContext\n",
    ".read\n",
    ".format(\"org.apache.spark.sql.cassandra\")\n",
    ".options(Map( \"table\" -> \"pageviews\", \"keyspace\" -> \"pageviews_ks\" ))\n",
    ".load()"
   ]
  },
  {
   "cell_type": "code",
   "execution_count": 8,
   "metadata": {
    "collapsed": false
   },
   "outputs": [
    {
     "name": "stdout",
     "output_type": "stream",
     "text": [
      "+--------------------+--------+-------+-------------------+\n",
      "|                 uid|requests|   site|                 ts|\n",
      "+--------------------+--------+-------+-------------------+\n",
      "|033c57bb-ee86-40d...|    1387| mobile|2015-04-03T01:42:10|\n",
      "|9d94abff-0c6f-4c0...|    3360|desktop|2015-04-23T19:02:04|\n",
      "|e7cbde2b-55b9-450...|    1240| mobile|2015-04-18T13:38:32|\n",
      "|7eabd00c-47f9-4a2...|    2205|desktop|2015-04-18T06:15:32|\n",
      "|6b4a1ead-d5b7-477...|    3047|desktop|2015-04-23T19:03:40|\n",
      "|26c33699-e78b-4f6...|    1326| mobile|2015-04-21T03:05:42|\n",
      "|a51642df-e07c-408...|    2158|desktop|2015-03-19T01:09:17|\n",
      "|d3daf8d6-535a-4dd...|    1564| mobile|2015-04-14T17:44:07|\n",
      "|24a3ef91-b17f-46c...|    1410| mobile|2015-03-19T23:00:42|\n",
      "|c3cc0447-37dc-45c...|    2145|desktop|2015-03-31T09:34:12|\n",
      "|c3077138-32a9-4fe...|    1459| mobile|2015-03-17T18:32:46|\n",
      "|c166a0cf-6bd1-456...|    1665| mobile|2015-04-04T19:49:39|\n",
      "|cf108e13-49d6-47b...|    2894|desktop|2015-04-13T13:07:31|\n",
      "|f21a1f05-24b3-471...|    1501| mobile|2015-04-03T22:22:50|\n",
      "|9ec455b2-f38e-425...|    2217|desktop|2015-03-30T08:41:43|\n",
      "|5f57edfe-1ab2-4f1...|    2206|desktop|2015-04-05T23:08:04|\n",
      "|b987b07d-ceaf-4fe...|    1302| mobile|2015-04-24T15:34:28|\n",
      "|0391ea22-94b6-4ce...|    2232|desktop|2015-04-01T02:07:59|\n",
      "|ae8e7444-46ce-461...|    1738| mobile|2015-03-29T19:48:07|\n",
      "|5383d35c-8db2-48d...|     977| mobile|2015-04-06T07:52:39|\n",
      "+--------------------+--------+-------+-------------------+\n",
      "only showing top 20 rows\n",
      "\n"
     ]
    }
   ],
   "source": [
    "// Shows the first 20 records in ASCII print\n",
    "pageviewsDF.show()"
   ]
  },
  {
   "cell_type": "markdown",
   "metadata": {
    "collapsed": true
   },
   "source": [
    " `printSchema()` prints out the schema, the data types and whether a column can be null:"
   ]
  },
  {
   "cell_type": "code",
   "execution_count": 9,
   "metadata": {
    "collapsed": false
   },
   "outputs": [
    {
     "name": "stdout",
     "output_type": "stream",
     "text": [
      "root\n",
      " |-- uid: string (nullable = true)\n",
      " |-- requests: integer (nullable = true)\n",
      " |-- site: string (nullable = true)\n",
      " |-- ts: string (nullable = true)\n",
      "\n"
     ]
    }
   ],
   "source": [
    "pageviewsDF.printSchema()"
   ]
  },
  {
   "cell_type": "markdown",
   "metadata": {
    "collapsed": true
   },
   "source": [
    " Notice above that the first 2 columns are typed as `Strings`, while the requests column holds `Integers`. "
   ]
  },
  {
   "cell_type": "markdown",
   "metadata": {
    "collapsed": true
   },
   "source": [
    " Also notice, in a few cells above when we displayed the table, that the rows seem to be missing chunks of time.\n",
    "\n",
    "The first row shows data from March 16, 2015 at **12:09:55am**, and the second row shows data from the same day at **12:10:39am**. There appears to be missing data between those time intervals because the original data file from Wikimedia contains the data out of order and Spark read it into a DataFrame in the same order as the file.\n",
    "\n",
    "Our data set does actually contain 2 rows for every second (one row for mobile site requests and another for desktop site requests).\n",
    "\n",
    "We can verify this by ordering the table by the timestamp column:"
   ]
  },
  {
   "cell_type": "code",
   "execution_count": 12,
   "metadata": {
    "collapsed": false
   },
   "outputs": [
    {
     "name": "stdout",
     "output_type": "stream",
     "text": [
      "\r",
      "                                                                                \r",
      "+--------------------+--------+-------+-------------------+\n",
      "|                 uid|requests|   site|                 ts|\n",
      "+--------------------+--------+-------+-------------------+\n",
      "|8480716c-e6c8-408...|    1628| mobile|2015-03-16T00:00:00|\n",
      "|8fd64417-b4e8-468...|    2343|desktop|2015-03-16T00:00:00|\n",
      "|eea9678a-4d15-499...|    1636| mobile|2015-03-16T00:00:01|\n",
      "|0df4666e-b69a-4b5...|    2382|desktop|2015-03-16T00:00:01|\n",
      "|50f0b75f-398b-422...|    1619| mobile|2015-03-16T00:00:02|\n",
      "|240b1ef3-3a42-48c...|    2546|desktop|2015-03-16T00:00:02|\n",
      "|416a3aab-583e-4fa...|    1776| mobile|2015-03-16T00:00:03|\n",
      "|8d3b769a-786f-463...|    2402|desktop|2015-03-16T00:00:03|\n",
      "|1d9905f7-8ae2-441...|    1716| mobile|2015-03-16T00:00:04|\n",
      "|85fa4361-e6e6-492...|    2370|desktop|2015-03-16T00:00:04|\n",
      "+--------------------+--------+-------+-------------------+\n",
      "only showing top 10 rows\n",
      "\n"
     ]
    }
   ],
   "source": [
    "// The following orders the rows by first the timestamp (ascending), then the site (descending) and then shows the first 10 rows\n",
    "\n",
    "pageviewsDF.orderBy($\"ts\", $\"site\".desc).show(10)"
   ]
  },
  {
   "cell_type": "markdown",
   "metadata": {
    "collapsed": true
   },
   "source": [
    "### Reading from disk vs memory"
   ]
  },
  {
   "cell_type": "code",
   "execution_count": 13,
   "metadata": {
    "collapsed": false
   },
   "outputs": [
    {
     "data": {
      "text/plain": [
       "Long = 7200000"
      ]
     },
     "execution_count": 13,
     "metadata": {},
     "output_type": "execute_result"
    }
   ],
   "source": [
    "// Count how many total records (rows) there are\n",
    "pageviewsDF.count()"
   ]
  },
  {
   "cell_type": "markdown",
   "metadata": {
    "collapsed": true
   },
   "source": [
    " Hmm, that took about 10 - 20 seconds. Let's cache the DataFrame into memory to speed it up."
   ]
  },
  {
   "cell_type": "code",
   "execution_count": 14,
   "metadata": {
    "collapsed": false
   },
   "outputs": [
    {
     "data": {
      "text/plain": [
       "pageviewsDF.type = [uid: string, requests: int, site: string, ts: string]"
      ]
     },
     "execution_count": 14,
     "metadata": {},
     "output_type": "execute_result"
    }
   ],
   "source": [
    "pageviewsDF.cache()"
   ]
  },
  {
   "cell_type": "markdown",
   "metadata": {
    "collapsed": true
   },
   "source": [
    "Caching is a lazy operation (meaning it doesn't take effect until you call an action that needs to read all of the data). So let's call the `count()` action again:"
   ]
  },
  {
   "cell_type": "code",
   "execution_count": 15,
   "metadata": {
    "collapsed": false
   },
   "outputs": [
    {
     "data": {
      "text/plain": [
       "Long = 7200000"
      ]
     },
     "execution_count": 15,
     "metadata": {},
     "output_type": "execute_result"
    }
   ],
   "source": [
    "// During this count() action, the data is not only read from (*** FIXME ***) S3 and counted, but also cached\n",
    "pageviewsDF.count()"
   ]
  },
  {
   "cell_type": "markdown",
   "metadata": {
    "collapsed": true
   },
   "source": [
    "The DataFrame should now be cached, let's run another `count()` to see the speed increase:"
   ]
  },
  {
   "cell_type": "code",
   "execution_count": 16,
   "metadata": {
    "collapsed": false
   },
   "outputs": [
    {
     "data": {
      "text/plain": [
       "Long = 7200000"
      ]
     },
     "execution_count": 16,
     "metadata": {},
     "output_type": "execute_result"
    }
   ],
   "source": [
    "pageviewsDF.count()"
   ]
  },
  {
   "cell_type": "markdown",
   "metadata": {
    "collapsed": true
   },
   "source": [
    " Notice that operating on the DataFrame now takes less than 1 second!"
   ]
  },
  {
   "cell_type": "markdown",
   "metadata": {
    "collapsed": true
   },
   "source": [
    "### Exploring pageviews\n",
    "\n",
    "Time to do some data analysis!"
   ]
  },
  {
   "cell_type": "markdown",
   "metadata": {
    "collapsed": true
   },
   "source": [
    " \n",
    "### Question #1:\n",
    "**How many rows in the table refer to mobile vs desktop?**"
   ]
  },
  {
   "cell_type": "code",
   "execution_count": 17,
   "metadata": {
    "collapsed": false
   },
   "outputs": [
    {
     "data": {
      "text/plain": [
       "Long = 3600000"
      ]
     },
     "execution_count": 17,
     "metadata": {},
     "output_type": "execute_result"
    }
   ],
   "source": [
    "pageviewsDF.filter($\"site\" === \"mobile\").count()"
   ]
  },
  {
   "cell_type": "code",
   "execution_count": 18,
   "metadata": {
    "collapsed": false
   },
   "outputs": [
    {
     "data": {
      "text/plain": [
       "Long = 3600000"
      ]
     },
     "execution_count": 18,
     "metadata": {},
     "output_type": "execute_result"
    }
   ],
   "source": [
    "pageviewsDF.filter($\"site\" === \"desktop\").count()"
   ]
  },
  {
   "cell_type": "markdown",
   "metadata": {
    "collapsed": true
   },
   "source": [
    " We can also group the data by the `site` column and then call count:"
   ]
  },
  {
   "cell_type": "code",
   "execution_count": 19,
   "metadata": {
    "collapsed": false
   },
   "outputs": [
    {
     "name": "stdout",
     "output_type": "stream",
     "text": [
      "\r",
      "                                                                                \r",
      "+-------+-------+\n",
      "|   site|  count|\n",
      "+-------+-------+\n",
      "| mobile|3600000|\n",
      "|desktop|3600000|\n",
      "+-------+-------+\n",
      "\n"
     ]
    }
   ],
   "source": [
    "pageviewsDF.groupBy($\"site\").count().show()"
   ]
  },
  {
   "cell_type": "markdown",
   "metadata": {
    "collapsed": true
   },
   "source": [
    " So, 3.6 million rows refer to the mobile page views and 3.6 million rows refer to desktop page views."
   ]
  },
  {
   "cell_type": "markdown",
   "metadata": {
    "collapsed": true
   },
   "source": [
    " \n",
    "### Question #2:\n",
    "** How many total incoming requests were to the mobile site vs the desktop site?**"
   ]
  },
  {
   "cell_type": "markdown",
   "metadata": {
    "collapsed": true
   },
   "source": [
    " First, let's sum up the `requests` column to see how many total requests are in the dataset."
   ]
  },
  {
   "cell_type": "code",
   "execution_count": 20,
   "metadata": {
    "collapsed": true
   },
   "outputs": [],
   "source": [
    "// Import the sql functions package, which includes statistical functions like sum, max, min, avg, etc.\n",
    "import org.apache.spark.sql.functions._"
   ]
  },
  {
   "cell_type": "code",
   "execution_count": 21,
   "metadata": {
    "collapsed": false
   },
   "outputs": [
    {
     "name": "stdout",
     "output_type": "stream",
     "text": [
      "\r",
      "                                                                                \r",
      "+-------------+\n",
      "|sum(requests)|\n",
      "+-------------+\n",
      "|  13342978934|\n",
      "+-------------+\n",
      "\n"
     ]
    }
   ],
   "source": [
    "pageviewsDF.select(sum($\"requests\")).show()"
   ]
  },
  {
   "cell_type": "markdown",
   "metadata": {
    "collapsed": true
   },
   "source": [
    " So, there are about 13.3 billion requests total."
   ]
  },
  {
   "cell_type": "markdown",
   "metadata": {
    "collapsed": true
   },
   "source": [
    " But how many of the requests were for the mobile site?"
   ]
  },
  {
   "cell_type": "markdown",
   "metadata": {
    "collapsed": true
   },
   "source": [
    " ** Challenge 1:** Using just the commands we explored above, can you figure out how to filter the DataFrame for just mobile traffic and then sum the requests column?"
   ]
  },
  {
   "cell_type": "code",
   "execution_count": 22,
   "metadata": {
    "collapsed": false
   },
   "outputs": [
    {
     "name": "stdout",
     "output_type": "stream",
     "text": [
      "+-------------+\n",
      "|sum(requests)|\n",
      "+-------------+\n",
      "|   4605797962|\n",
      "+-------------+\n",
      "\n"
     ]
    }
   ],
   "source": [
    "//Type in your answer here...\n",
    "pageviewsDF.filter(\"site = 'mobile'\").select(sum($\"requests\")).show()"
   ]
  },
  {
   "cell_type": "markdown",
   "metadata": {
    "collapsed": true
   },
   "source": [
    " So, that many requests were for the mobile site (and probably came from mobile phone browsers)."
   ]
  },
  {
   "cell_type": "markdown",
   "metadata": {
    "collapsed": true
   },
   "source": [
    " ** Challenge 2:** What about the desktop site? How many requests did it get?"
   ]
  },
  {
   "cell_type": "code",
   "execution_count": 23,
   "metadata": {
    "collapsed": false
   },
   "outputs": [
    {
     "name": "stdout",
     "output_type": "stream",
     "text": [
      "+-------------+\n",
      "|sum(requests)|\n",
      "+-------------+\n",
      "|   8737180972|\n",
      "+-------------+\n",
      "\n"
     ]
    }
   ],
   "source": [
    "//Type in your answer here...\n",
    "pageviewsDF.filter(\"site = 'desktop'\").select(sum($\"requests\")).show()"
   ]
  },
  {
   "cell_type": "markdown",
   "metadata": {
    "collapsed": true
   },
   "source": [
    " So, twice as many were for the desktop site."
   ]
  },
  {
   "cell_type": "markdown",
   "metadata": {
    "collapsed": true
   },
   "source": [
    " \n",
    "### Question #3:\n",
    "** What is the start and end range of time for the pageviews data? How many days of data do we have?**"
   ]
  },
  {
   "cell_type": "markdown",
   "metadata": {
    "collapsed": true
   },
   "source": [
    " To accomplish this, we should first convert the `timestamp` column from a `String` type to a `Timestamp` type."
   ]
  },
  {
   "cell_type": "code",
   "execution_count": 24,
   "metadata": {
    "collapsed": false
   },
   "outputs": [
    {
     "name": "stdout",
     "output_type": "stream",
     "text": [
      "root\n",
      " |-- uid: string (nullable = true)\n",
      " |-- requests: integer (nullable = true)\n",
      " |-- site: string (nullable = true)\n",
      " |-- ts: string (nullable = true)\n",
      "\n"
     ]
    }
   ],
   "source": [
    "// Currently in our DataFrame, `pageviewsDF`, the first column is typed as a string\n",
    "pageviewsDF.printSchema()"
   ]
  },
  {
   "cell_type": "markdown",
   "metadata": {
    "collapsed": true
   },
   "source": [
    " Create a new DataFrame, `pageviewsDF2`, that changes the timestamp column from a `string` data type to a `timestamp` data type."
   ]
  },
  {
   "cell_type": "code",
   "execution_count": 25,
   "metadata": {
    "collapsed": false
   },
   "outputs": [],
   "source": [
    "// This probably needs to be \"ts\"\n",
    "\n",
    "val pageviewsDF2 = pageviewsDF.select($\"ts\".cast(\"timestamp\").alias(\"timestamp\"), $\"site\", $\"requests\")"
   ]
  },
  {
   "cell_type": "code",
   "execution_count": 26,
   "metadata": {
    "collapsed": false
   },
   "outputs": [
    {
     "name": "stdout",
     "output_type": "stream",
     "text": [
      "root\n",
      " |-- timestamp: timestamp (nullable = true)\n",
      " |-- site: string (nullable = true)\n",
      " |-- requests: integer (nullable = true)\n",
      "\n"
     ]
    }
   ],
   "source": [
    "pageviewsDF2.printSchema()"
   ]
  },
  {
   "cell_type": "code",
   "execution_count": 27,
   "metadata": {
    "collapsed": false
   },
   "outputs": [
    {
     "name": "stdout",
     "output_type": "stream",
     "text": [
      "+--------------------+-------+--------+\n",
      "|           timestamp|   site|requests|\n",
      "+--------------------+-------+--------+\n",
      "|2015-04-03 01:42:...| mobile|    1387|\n",
      "|2015-04-23 19:02:...|desktop|    3360|\n",
      "|2015-04-18 13:38:...| mobile|    1240|\n",
      "|2015-04-18 06:15:...|desktop|    2205|\n",
      "|2015-04-23 19:03:...|desktop|    3047|\n",
      "|2015-04-21 03:05:...| mobile|    1326|\n",
      "|2015-03-19 01:09:...|desktop|    2158|\n",
      "|2015-04-14 17:44:...| mobile|    1564|\n",
      "|2015-03-19 23:00:...| mobile|    1410|\n",
      "|2015-03-31 09:34:...|desktop|    2145|\n",
      "|2015-03-17 18:32:...| mobile|    1459|\n",
      "|2015-04-04 19:49:...| mobile|    1665|\n",
      "|2015-04-13 13:07:...|desktop|    2894|\n",
      "|2015-04-03 22:22:...| mobile|    1501|\n",
      "|2015-03-30 08:41:...|desktop|    2217|\n",
      "|2015-04-05 23:08:...|desktop|    2206|\n",
      "|2015-04-24 15:34:...| mobile|    1302|\n",
      "|2015-04-01 02:07:...|desktop|    2232|\n",
      "|2015-03-29 19:48:...| mobile|    1738|\n",
      "|2015-04-06 07:52:...| mobile|     977|\n",
      "+--------------------+-------+--------+\n",
      "only showing top 20 rows\n",
      "\n"
     ]
    }
   ],
   "source": [
    "pageviewsDF2.show()"
   ]
  },
  {
   "cell_type": "markdown",
   "metadata": {
    "collapsed": true
   },
   "source": [
    " How many different years is our data from?"
   ]
  },
  {
   "cell_type": "markdown",
   "metadata": {
    "collapsed": true
   },
   "source": [
    " For the next command, we'll use `year()`, one of the date time function available in Spark. You can review which functions are available for DataFrames in the [Spark API docs](https://spark.apache.org/docs/latest/api/scala/index.html#org.apache.spark.sql.functions$)."
   ]
  },
  {
   "cell_type": "code",
   "execution_count": 28,
   "metadata": {
    "collapsed": false
   },
   "outputs": [
    {
     "name": "stdout",
     "output_type": "stream",
     "text": [
      "+---------------+\n",
      "|year(timestamp)|\n",
      "+---------------+\n",
      "|           2015|\n",
      "+---------------+\n",
      "\n"
     ]
    }
   ],
   "source": [
    "pageviewsDF2.select(year($\"timestamp\")).distinct().show()"
   ]
  },
  {
   "cell_type": "markdown",
   "metadata": {
    "collapsed": true
   },
   "source": [
    " The data only spans 2015. But which months?"
   ]
  },
  {
   "cell_type": "markdown",
   "metadata": {
    "collapsed": true
   },
   "source": [
    " ** Challenge 3:** Can you figure out how to check which months of 2015 our data covers (using the Spark API docs linked to above)?"
   ]
  },
  {
   "cell_type": "code",
   "execution_count": 29,
   "metadata": {
    "collapsed": false
   },
   "outputs": [
    {
     "name": "stdout",
     "output_type": "stream",
     "text": [
      "\r",
      "                                                                                \r",
      "+----------------+\n",
      "|month(timestamp)|\n",
      "+----------------+\n",
      "|               3|\n",
      "|               4|\n",
      "+----------------+\n",
      "\n"
     ]
    }
   ],
   "source": [
    "//Type in your answer here...\n",
    "pageviewsDF2.select(month($\"timestamp\")).distinct().show()"
   ]
  },
  {
   "cell_type": "markdown",
   "metadata": {
    "collapsed": true
   },
   "source": [
    " The data covers the months you see above."
   ]
  },
  {
   "cell_type": "markdown",
   "metadata": {
    "collapsed": true
   },
   "source": [
    " ** Challenge 4:** How many weeks does our data cover?\n",
    "\n",
    "*Hint, check out the Date time functions available in the  [Spark API docs](https://spark.apache.org/docs/latest/api/scala/index.html#org.apache.spark.sql.functions$).*"
   ]
  },
  {
   "cell_type": "code",
   "execution_count": 30,
   "metadata": {
    "collapsed": false
   },
   "outputs": [
    {
     "name": "stdout",
     "output_type": "stream",
     "text": [
      "+---------------------+\n",
      "|weekofyear(timestamp)|\n",
      "+---------------------+\n",
      "|                   12|\n",
      "|                   13|\n",
      "|                   14|\n",
      "|                   15|\n",
      "|                   16|\n",
      "|                   17|\n",
      "+---------------------+\n",
      "\n"
     ]
    }
   ],
   "source": [
    "//Type in your answer below...\n",
    "pageviewsDF2.select(weekofyear($\"timestamp\")).distinct().show()"
   ]
  },
  {
   "cell_type": "markdown",
   "metadata": {
    "collapsed": true
   },
   "source": [
    " The data set covers the number of weeks you see above. Similarly, we can see how many days of coverage we have:"
   ]
  },
  {
   "cell_type": "code",
   "execution_count": 31,
   "metadata": {
    "collapsed": false
   },
   "outputs": [
    {
     "data": {
      "text/plain": [
       "Long = 41"
      ]
     },
     "execution_count": 31,
     "metadata": {},
     "output_type": "execute_result"
    }
   ],
   "source": [
    "pageviewsDF2.select(dayofyear($\"timestamp\")).distinct().count()"
   ]
  },
  {
   "cell_type": "markdown",
   "metadata": {
    "collapsed": true
   },
   "source": [
    " We have 41 days of data."
   ]
  },
  {
   "cell_type": "markdown",
   "metadata": {
    "collapsed": true
   },
   "source": [
    " To understand our data better, let's look at the average, minimum and maximum number of requests received for mobile, then desktop page views over every 1 second interval:"
   ]
  },
  {
   "cell_type": "code",
   "execution_count": 32,
   "metadata": {
    "collapsed": false
   },
   "outputs": [
    {
     "name": "stdout",
     "output_type": "stream",
     "text": [
      "+------------------+-------------+-------------+\n",
      "|     avg(requests)|min(requests)|max(requests)|\n",
      "+------------------+-------------+-------------+\n",
      "|1279.3883227777778|          645|         3292|\n",
      "+------------------+-------------+-------------+\n",
      "\n"
     ]
    }
   ],
   "source": [
    "// Look at mobile statistics\n",
    "pageviewsDF2.filter(\"site = 'mobile'\").select(avg($\"requests\"), min($\"requests\"), max($\"requests\")).show()"
   ]
  },
  {
   "cell_type": "code",
   "execution_count": 33,
   "metadata": {
    "collapsed": false
   },
   "outputs": [
    {
     "name": "stdout",
     "output_type": "stream",
     "text": [
      "+------------------+-------------+-------------+\n",
      "|     avg(requests)|min(requests)|max(requests)|\n",
      "+------------------+-------------+-------------+\n",
      "|2426.9947144444445|         1312|         5695|\n",
      "+------------------+-------------+-------------+\n",
      "\n"
     ]
    }
   ],
   "source": [
    "// Look at desktop statistics\n",
    "pageviewsDF2.filter(\"site = 'desktop'\").select(avg($\"requests\"), min($\"requests\"), max($\"requests\")).show()"
   ]
  },
  {
   "cell_type": "markdown",
   "metadata": {
    "collapsed": true
   },
   "source": [
    " There certainly appears to be more requests for the desktop site."
   ]
  },
  {
   "cell_type": "markdown",
   "metadata": {
    "collapsed": true
   },
   "source": [
    " \n",
    "### Question #4:\n",
    "** Which day of the week does Wikipedia get the most traffic?**"
   ]
  },
  {
   "cell_type": "markdown",
   "metadata": {
    "collapsed": true
   },
   "source": [
    " Think about how we can accomplish this. We need to pull out the day of the week (like Mon, Tues, etc) from each row, and then sum up all of the requests by day."
   ]
  },
  {
   "cell_type": "markdown",
   "metadata": {
    "collapsed": true
   },
   "source": [
    " First, use the `date_format` function to extract out the day of the week from the timestamp and rename the column as \"Day of week\".\n",
    "\n",
    "Then we'll sum up all of the requests for each day and show the results."
   ]
  },
  {
   "cell_type": "code",
   "execution_count": 34,
   "metadata": {
    "collapsed": false
   },
   "outputs": [
    {
     "name": "stdout",
     "output_type": "stream",
     "text": [
      "\r",
      "                                                                                \r",
      "+-----------+-------------+\n",
      "|Day of week|sum(requests)|\n",
      "+-----------+-------------+\n",
      "|        Tue|   1995034884|\n",
      "|        Thu|   1931508977|\n",
      "|        Sat|   1662762048|\n",
      "|        Sun|   1576726066|\n",
      "|        Fri|   1842512718|\n",
      "|        Mon|   2356818845|\n",
      "|        Wed|   1977615396|\n",
      "+-----------+-------------+\n",
      "\n"
     ]
    }
   ],
   "source": [
    "// Notice the use of alias() to rename the new column\n",
    "// \"E\" is a pattern in the SimpleDataFormat class in Java that extracts out the \"Day in Week\"\"\n",
    "\n",
    "// Create a new DataFrame named pageviewsByDayOfWeekDF and cache it\n",
    "val pageviewsByDayOfWeekDF = pageviewsDF2.groupBy(date_format(($\"timestamp\"), \"E\").alias(\"Day of week\")).sum().cache()\n",
    "\n",
    "// Show what is in the new DataFrame\n",
    "pageviewsByDayOfWeekDF.show()"
   ]
  },
  {
   "cell_type": "markdown",
   "metadata": {
    "collapsed": true
   },
   "source": [
    " You can learn more about patterns, like \"E\", that [Java SimpleDateFormat](https://docs.oracle.com/javase/7/docs/api/java/text/SimpleDateFormat.html) allows in the Java Docs."
   ]
  },
  {
   "cell_type": "markdown",
   "metadata": {
    "collapsed": true
   },
   "source": [
    " It would help to visualize the results:"
   ]
  },
  {
   "cell_type": "code",
   "execution_count": 35,
   "metadata": {
    "collapsed": false
   },
   "outputs": [
    {
     "name": "stdout",
     "output_type": "stream",
     "text": [
      "+-----------+-------------+\n",
      "|Day of week|sum(requests)|\n",
      "+-----------+-------------+\n",
      "|        Fri|   1842512718|\n",
      "|        Mon|   2356818845|\n",
      "|        Sat|   1662762048|\n",
      "|        Sun|   1576726066|\n",
      "|        Thu|   1931508977|\n",
      "|        Tue|   1995034884|\n",
      "|        Wed|   1977615396|\n",
      "+-----------+-------------+\n",
      "\n"
     ]
    }
   ],
   "source": [
    "// This is the same command as above, except here we're tacking on an orderBy() to sort by day of week\n",
    "pageviewsByDayOfWeekDF.orderBy($\"Day of week\").show()"
   ]
  },
  {
   "cell_type": "markdown",
   "metadata": {
    "collapsed": true
   },
   "source": [
    " Hmm, the ordering of the days of the week is off, because the `orderBy()` operation is ordering the days of the week alphabetically. Instead of that, let's start with Monday and end with Sunday. To accomplish this, we'll need to write a short User Defined Function (UDF) to prepend each `Day of week` with a number."
   ]
  },
  {
   "cell_type": "markdown",
   "metadata": {
    "collapsed": true
   },
   "source": [
    "### User Defined Functions\n",
    "\n",
    "A UDF lets you code your own logic for processing column values during a DataFrame query. \n",
    "\n",
    "First, let's create a Scala match expression for pattern matching:"
   ]
  },
  {
   "cell_type": "code",
   "execution_count": 36,
   "metadata": {
    "collapsed": true
   },
   "outputs": [],
   "source": [
    "def matchDayOfWeek(day:String): String = {\n",
    "  day match {\n",
    "    case \"Mon\" => \"1-Mon\"\n",
    "    case \"Tue\" => \"2-Tue\"\n",
    "    case \"Wed\" => \"3-Wed\"\n",
    "    case \"Thu\" => \"4-Thu\"\n",
    "    case \"Fri\" => \"5-Fri\"\n",
    "    case \"Sat\" => \"6-Sat\"\n",
    "    case \"Sun\" => \"7-Sun\"\n",
    "    case _ => \"UNKNOWN\"\n",
    "  }\n",
    "}"
   ]
  },
  {
   "cell_type": "markdown",
   "metadata": {
    "collapsed": true
   },
   "source": [
    " Test the match expression:"
   ]
  },
  {
   "cell_type": "code",
   "execution_count": 37,
   "metadata": {
    "collapsed": false
   },
   "outputs": [
    {
     "data": {
      "text/plain": [
       "String = 2-Tue"
      ]
     },
     "execution_count": 37,
     "metadata": {},
     "output_type": "execute_result"
    }
   ],
   "source": [
    "matchDayOfWeek(\"Tue\")"
   ]
  },
  {
   "cell_type": "markdown",
   "metadata": {
    "collapsed": true
   },
   "source": [
    " Great, it works! Now define a UDF named `prependNumber`:"
   ]
  },
  {
   "cell_type": "code",
   "execution_count": 38,
   "metadata": {
    "collapsed": true
   },
   "outputs": [],
   "source": [
    "val prependNumberUDF = sqlContext.udf.register(\"prependNumber\", (s: String) => matchDayOfWeek(s))"
   ]
  },
  {
   "cell_type": "code",
   "execution_count": null,
   "metadata": {
    "collapsed": true
   },
   "outputs": [],
   "source": [
    "// Note, here is a more idomatic Scala way of registering the same UDF\n",
    "// val prependNumberUDF = sqlContext.udf.register(\"prependNumber\", matchDayOfWeek _)"
   ]
  },
  {
   "cell_type": "markdown",
   "metadata": {
    "collapsed": true
   },
   "source": [
    " Test the UDF to prepend the `Day of Week` column in the DataFrame with a number:"
   ]
  },
  {
   "cell_type": "code",
   "execution_count": 39,
   "metadata": {
    "collapsed": false
   },
   "outputs": [
    {
     "name": "stdout",
     "output_type": "stream",
     "text": [
      "+----------------+\n",
      "|UDF(Day of week)|\n",
      "+----------------+\n",
      "|           2-Tue|\n",
      "|           4-Thu|\n",
      "|           6-Sat|\n",
      "|           7-Sun|\n",
      "|           5-Fri|\n",
      "|           1-Mon|\n",
      "|           3-Wed|\n",
      "+----------------+\n",
      "\n"
     ]
    }
   ],
   "source": [
    "pageviewsByDayOfWeekDF.select(prependNumberUDF($\"Day of week\")).show(7)"
   ]
  },
  {
   "cell_type": "markdown",
   "metadata": {
    "collapsed": true
   },
   "source": [
    " Our UDF looks like it's working. Next, let's apply the UDF and also order the x axis from Mon -> Sun:"
   ]
  },
  {
   "cell_type": "code",
   "execution_count": 40,
   "metadata": {
    "collapsed": false
   },
   "outputs": [
    {
     "name": "stdout",
     "output_type": "stream",
     "text": [
      "+----------------+--------------+\n",
      "|UDF(Day of week)|total requests|\n",
      "+----------------+--------------+\n",
      "|           1-Mon|    2356818845|\n",
      "|           2-Tue|    1995034884|\n",
      "|           3-Wed|    1977615396|\n",
      "|           4-Thu|    1931508977|\n",
      "|           5-Fri|    1842512718|\n",
      "|           6-Sat|    1662762048|\n",
      "|           7-Sun|    1576726066|\n",
      "+----------------+--------------+\n",
      "\n"
     ]
    }
   ],
   "source": [
    "// FIXME -- looks like a \n",
    "\n",
    "pageviewsByDayOfWeekDF.withColumnRenamed(\"sum(requests)\", \"total requests\")\n",
    "  .select(prependNumberUDF($\"Day of week\"), $\"total requests\")\n",
    "  .orderBy(\"UDF(Day of week)\").show()"
   ]
  },
  {
   "cell_type": "markdown",
   "metadata": {
    "collapsed": true
   },
   "source": [
    " Click on the bar chart icon again to convert the above table into a Bar Chart. Also, under the Plot Options, you may need to set the Keys as \"UDF(Day of week)\" and the values as \"total requests\"."
   ]
  },
  {
   "cell_type": "markdown",
   "metadata": {
    "collapsed": true
   },
   "source": [
    " Wikipedia seems to get significantly more traffic on Mondays than other days of the week."
   ]
  },
  {
   "cell_type": "markdown",
   "metadata": {
    "collapsed": true
   },
   "source": [
    " \n",
    "### Question #5:\n",
    "** Can you visualize both the mobile and desktop site requests in a line chart to compare traffic between both sites by day of the week?**"
   ]
  },
  {
   "cell_type": "markdown",
   "metadata": {
    "collapsed": true
   },
   "source": [
    " First, graph the mobile site requests:"
   ]
  },
  {
   "cell_type": "code",
   "execution_count": 41,
   "metadata": {
    "collapsed": false
   },
   "outputs": [
    {
     "name": "stdout",
     "output_type": "stream",
     "text": [
      "+-----+---------------+\n",
      "|  DOW|mobile_requests|\n",
      "+-----+---------------+\n",
      "|1-Mon|      790026669|\n",
      "|2-Tue|      648087459|\n",
      "|3-Wed|      631284694|\n",
      "|4-Thu|      625338164|\n",
      "|5-Fri|      635169886|\n",
      "|6-Sat|      646334635|\n",
      "|7-Sun|      629556455|\n",
      "+-----+---------------+\n",
      "\n"
     ]
    }
   ],
   "source": [
    "val mobileViewsByDayOfWeekDF = pageviewsDF2.filter(\"site = 'mobile'\").groupBy(date_format(($\"timestamp\"), \"E\").alias(\"Day of week\")).sum().withColumnRenamed(\"sum(requests)\", \"total requests\").select(prependNumberUDF($\"Day of week\"), $\"total requests\").orderBy(\"UDF(Day of week)\").toDF(\"DOW\", \"mobile_requests\")\n",
    "\n",
    "// Cache this DataFrame\n",
    "mobileViewsByDayOfWeekDF.cache()\n",
    "\n",
    "mobileViewsByDayOfWeekDF.show()"
   ]
  },
  {
   "cell_type": "markdown",
   "metadata": {
    "collapsed": true
   },
   "source": [
    " Click on the bar chart icon again to convert the above table into a Bar Chart. Also, under the Plot Options, you may need to set the Keys as \"DOW\" and the values as \"mobile requests\"."
   ]
  },
  {
   "cell_type": "markdown",
   "metadata": {
    "collapsed": true
   },
   "source": [
    " Next, graph the desktop site requests:"
   ]
  },
  {
   "cell_type": "code",
   "execution_count": 42,
   "metadata": {
    "collapsed": false
   },
   "outputs": [
    {
     "name": "stdout",
     "output_type": "stream",
     "text": [
      "+-----+----------------+\n",
      "|  DOW|desktop_requests|\n",
      "+-----+----------------+\n",
      "|1-Mon|      1566792176|\n",
      "|2-Tue|      1346947425|\n",
      "|3-Wed|      1346330702|\n",
      "|4-Thu|      1306170813|\n",
      "|5-Fri|      1207342832|\n",
      "|6-Sat|      1016427413|\n",
      "|7-Sun|       947169611|\n",
      "+-----+----------------+\n",
      "\n"
     ]
    }
   ],
   "source": [
    "val desktopViewsByDayOfWeekDF = pageviewsDF2.filter(\"site = 'desktop'\").groupBy(date_format(($\"timestamp\"), \"E\").alias(\"Day of week\")).sum().withColumnRenamed(\"sum(requests)\", \"total requests\").select(prependNumberUDF($\"Day of week\"), $\"total requests\").orderBy(\"UDF(Day of week)\").toDF(\"DOW\", \"desktop_requests\")\n",
    "\n",
    "// Cache this DataFrame\n",
    "desktopViewsByDayOfWeekDF.cache()\n",
    "\n",
    "desktopViewsByDayOfWeekDF.show"
   ]
  },
  {
   "cell_type": "markdown",
   "metadata": {
    "collapsed": true
   },
   "source": [
    " Now that we have two DataFrames (one for mobile views by day of week and another for desktop views), let's join both of them to compare mobile vs. desktop page views:"
   ]
  },
  {
   "cell_type": "code",
   "execution_count": 43,
   "metadata": {
    "collapsed": false
   },
   "outputs": [
    {
     "name": "stdout",
     "output_type": "stream",
     "text": [
      "+-----+---------------+-----+----------------+\n",
      "|  DOW|mobile_requests|  DOW|desktop_requests|\n",
      "+-----+---------------+-----+----------------+\n",
      "|1-Mon|      790026669|1-Mon|      1566792176|\n",
      "|2-Tue|      648087459|2-Tue|      1346947425|\n",
      "|3-Wed|      631284694|3-Wed|      1346330702|\n",
      "|4-Thu|      625338164|4-Thu|      1306170813|\n",
      "|5-Fri|      635169886|5-Fri|      1207342832|\n",
      "|6-Sat|      646334635|6-Sat|      1016427413|\n",
      "|7-Sun|      629556455|7-Sun|       947169611|\n",
      "+-----+---------------+-----+----------------+\n",
      "\n"
     ]
    }
   ],
   "source": [
    "mobileViewsByDayOfWeekDF.join(desktopViewsByDayOfWeekDF, mobileViewsByDayOfWeekDF(\"DOW\") === desktopViewsByDayOfWeekDF(\"DOW\")).show()"
   ]
  },
  {
   "cell_type": "code",
   "execution_count": null,
   "metadata": {
    "collapsed": true
   },
   "outputs": [],
   "source": []
  }
 ],
 "metadata": {
  "kernelspec": {
   "display_name": "Spark-DSE Cluster",
   "language": "scala",
   "name": "spark-dse-cluster"
  },
  "language_info": {
   "file_extension": ".scala",
   "name": "scala"
  }
 },
 "nbformat": 4,
 "nbformat_minor": 0
}
