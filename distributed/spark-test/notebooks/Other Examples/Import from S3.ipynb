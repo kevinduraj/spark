{
 "cells": [
  {
   "cell_type": "code",
   "execution_count": 1,
   "metadata": {
    "collapsed": true
   },
   "outputs": [],
   "source": [
    "case class Trade (\n",
    "day: String,\n",
    "trade_id: Int,\n",
    "stock_symbol:String,\n",
    "exchange:String,\n",
    "trade_timestamp: String,\n",
    "price: Float,\n",
    "quantity: Int)"
   ]
  },
  {
   "cell_type": "code",
   "execution_count": null,
   "metadata": {
    "collapsed": false
   },
   "outputs": [],
   "source": [
    "val DateFormat = \"([0-9]{4})-([0-9]{2})-([0-9]{2}) ([0-9]{2}):([0-9]{2}):([0-9]{2})\".r "
   ]
  },
  {
   "cell_type": "code",
   "execution_count": null,
   "metadata": {
    "collapsed": false
   },
   "outputs": [],
   "source": [
    "def dtt2dt(dt:String) = dt match {case DateFormat(y,mo,d,h,m,s) => s\"$y-$mo-$d\"}"
   ]
  },
  {
   "cell_type": "code",
   "execution_count": 2,
   "metadata": {
    "collapsed": false
   },
   "outputs": [],
   "source": [
    "val raw = sc.textFile(s\"s3a://datastaxtraining/stockdata\")"
   ]
  },
  {
   "cell_type": "code",
   "execution_count": null,
   "metadata": {
    "collapsed": false
   },
   "outputs": [],
   "source": [
    "raw.first"
   ]
  },
  {
   "cell_type": "code",
   "execution_count": null,
   "metadata": {
    "collapsed": false
   },
   "outputs": [],
   "source": [
    "val trades = raw\n",
    "            .map{ _.split('|') \n",
    "               match { case Array(tid,tick,exch,dt,prc,qty)\n",
    "                  => Trade(dtt2dt(dt),tid.toInt,tick,exch,dt,prc.toFloat,qty.toInt)}}"
   ]
  },
  {
   "cell_type": "code",
   "execution_count": null,
   "metadata": {
    "collapsed": false
   },
   "outputs": [],
   "source": [
    "trades.first"
   ]
  },
  {
   "cell_type": "code",
   "execution_count": null,
   "metadata": {
    "collapsed": false
   },
   "outputs": [],
   "source": [
    "%%cql create keyspace if not exists stock with replication = {'class':'SimpleStrategy','replication_factor':1}"
   ]
  },
  {
   "cell_type": "code",
   "execution_count": null,
   "metadata": {
    "collapsed": false
   },
   "outputs": [],
   "source": [
    "%%cql create table if not exists stock.trades_by_tickerday(\n",
    "  day text,\n",
    "  trade_id int,\n",
    "  stock_symbol text,\n",
    "  exchange text,\n",
    "  trade_timestamp text,\n",
    "  price float,\n",
    "  quantity int,\n",
    "  PRIMARY KEY ((stock_symbol,day), trade_timestamp, trade_id)\n",
    ")"
   ]
  },
  {
   "cell_type": "code",
   "execution_count": null,
   "metadata": {
    "collapsed": false
   },
   "outputs": [],
   "source": [
    "trades.saveToCassandra(\"stock\",\"trades_by_tickerday\", SomeColumns(\"day\",\"trade_id\",\n",
    "\"stock_symbol\",\"exchange\",\"trade_timestamp\",\"price\",\"quantity\"))"
   ]
  },
  {
   "cell_type": "markdown",
   "metadata": {},
   "source": [
    "### Dataframe to Parquet Example"
   ]
  },
  {
   "cell_type": "code",
   "execution_count": null,
   "metadata": {
    "collapsed": false
   },
   "outputs": [],
   "source": [
    "import sqlContext.implicits._"
   ]
  },
  {
   "cell_type": "markdown",
   "metadata": {},
   "source": [
    "Dataframe Example to Parquet"
   ]
  },
  {
   "cell_type": "code",
   "execution_count": null,
   "metadata": {
    "collapsed": false
   },
   "outputs": [],
   "source": [
    "val tradesDF = trades.toDF\n",
    "tradesDF.printSchema"
   ]
  },
  {
   "cell_type": "markdown",
   "metadata": {},
   "source": [
    "#### This will write it to CFS as parquet files"
   ]
  },
  {
   "cell_type": "code",
   "execution_count": null,
   "metadata": {
    "collapsed": false
   },
   "outputs": [],
   "source": [
    "tradesDF.write.parquet(\"/trades.parquet\")"
   ]
  },
  {
   "cell_type": "code",
   "execution_count": null,
   "metadata": {
    "collapsed": true
   },
   "outputs": [],
   "source": []
  }
 ],
 "metadata": {
  "kernelspec": {
   "display_name": "Spark-DSE Cluster",
   "language": "scala",
   "name": "spark-dse-cluster"
  },
  "language_info": {
   "file_extension": ".scala",
   "name": "scala"
  }
 },
 "nbformat": 4,
 "nbformat_minor": 0
}
