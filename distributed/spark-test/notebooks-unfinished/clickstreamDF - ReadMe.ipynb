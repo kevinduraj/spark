{
 "cells": [
  {
   "cell_type": "markdown",
   "metadata": {
    "collapsed": true
   },
   "source": [
    "// Databricks notebook source exported at Mon, 8 Feb 2016 23:29:54 UTC\n",
    "\n",
    "\n",
    "#![Wikipedia Logo](http://sameerf-dbc-labs.s3-website-us-west-2.amazonaws.com/data/wikipedia/images/w_logo_for_labs.png)\n",
    "\n",
    "# Explore English Wikipedia clickstream\n",
    "### Time to complete: 20 minutes\n",
    "\n",
    "#### Business Questions:\n",
    "\n",
    "* Question # 1) What are the top 10 articles requested from Wikipedia?\n",
    "* Question # 2) Who sent the most traffic to Wikipedia in Feb 2015?\n",
    "* Question # 3) What were the top 5 trending articles on Twitter in Feb 2015?\n",
    "* Question # 4) What are the most requested missing pages?\n",
    "* Question # 5) What does the traffic inflow vs outflow look like for the most requested pages?\n",
    "* Question # 6) What does the traffic flow pattern look like for the San Francisco article? Create a visualization for this.\n",
    "\n",
    "#### Technical Accomplishments:\n",
    "\n",
    "* Learn how to use the Spark CSV Library to read structured files\n",
    "* Explore the Spark UIs to understand the performance characteristics of your Spark jobs\n",
    "* Mix SQL and DataFrames queries\n",
    "* Join 2 DataFrames\n",
    "* Create a Google visualization to understand the clickstream traffic for the 'San Francisco' article\n",
    "* Bonus: Explain in DataFrames and SQL\n",
    "\n",
    "\n",
    "\n",
    "Dataset: http://datahub.io/dataset/wikipedia-clickstream/resource/be85cc68-d1e6-4134-804a-fd36b94dbb82\n",
    "\n",
    "Lab idea from [Ellery Wulczyn](https://ewulczyn.github.io/Wikipedia_Clickstream_Getting_Started/)"
   ]
  },
  {
   "cell_type": "markdown",
   "metadata": {
    "collapsed": true
   },
   "source": [
    "### Getting to know the Data\n",
    "How large is the data? Let's use `%fs` to find out."
   ]
  },
  {
   "cell_type": "markdown",
   "metadata": {
    "collapsed": true
   },
   "source": [
    " `%fs` makes it easy to work with the Databricks File System (DBFS). DBFS is a wrapper around Amazon S3 and makes it easier to do common tasks such as mounting S3 buckets, listing directory contents, making new directories, deleting files, copying files, etc. You can learn more about `dbutils` in Databricks Guide."
   ]
  },
  {
   "cell_type": "code",
   "execution_count": null,
   "metadata": {
    "collapsed": true
   },
   "outputs": [],
   "source": [
    "%fs ls /databricks-datasets/wikipedia-datasets/data-001/clickstream/raw-uncompressed"
   ]
  },
  {
   "cell_type": "markdown",
   "metadata": {
    "collapsed": true
   },
   "source": [
    " 1322171548 bytes means 1.2 GB."
   ]
  },
  {
   "cell_type": "markdown",
   "metadata": {
    "collapsed": true
   },
   "source": [
    " The file we are exploring in this lab is the February 2015 English Wikipedia Clickstream data. \n",
    "\n",
    "According to Wikimedia: \n",
    "\n",
    ">\"The data contains counts of (referer, resource) pairs extracted from the request logs of English Wikipedia. When a client requests a resource by following a link or performing a search, the URI of the webpage that linked to the resource is included with the request in an HTTP header called the \"referer\". This data captures 22 million (referer, resource) pairs from a total of 3.2 billion requests collected during the month of February 2015.\""
   ]
  },
  {
   "cell_type": "markdown",
   "metadata": {
    "collapsed": true
   },
   "source": [
    "### DataFrames\n",
    "A `sqlContext` object is your entry point for working with structured data (rows and columns) in Spark.\n",
    "\n",
    "Let's use the `sqlContext` to read a table of the Clickstream data."
   ]
  },
  {
   "cell_type": "markdown",
   "metadata": {},
   "source": [
    "##### First import stuff"
   ]
  },
  {
   "cell_type": "code",
   "execution_count": 1,
   "metadata": {
    "collapsed": true
   },
   "outputs": [],
   "source": [
    "import org.apache.spark.sql.functions._\n",
    "import sqlContext.implicits._"
   ]
  },
  {
   "cell_type": "code",
   "execution_count": 2,
   "metadata": {
    "collapsed": false
   },
   "outputs": [
    {
     "data": {
      "text/plain": [
       "org.apache.spark.sql.hive.HiveContext = org.apache.spark.sql.hive.HiveContext@26ae9861"
      ]
     },
     "execution_count": 2,
     "metadata": {},
     "output_type": "execute_result"
    }
   ],
   "source": [
    "// Notice that the sqlContext in Databricks is actually a HiveContext\n",
    "sqlContext"
   ]
  },
  {
   "cell_type": "markdown",
   "metadata": {
    "collapsed": true
   },
   "source": [
    " A `HiveContext` includes additional features like the ability to write queries using the more complete HiveQL parser, access to Hive UDFs, and the ability to read data from Hive tables. In general, you should always aim to use the `HiveContext` over the more limited `sqlContext`."
   ]
  },
  {
   "cell_type": "markdown",
   "metadata": {
    "collapsed": true
   },
   "source": [
    " First let's load the data into a DataFrame."
   ]
  },
  {
   "cell_type": "markdown",
   "metadata": {
    "collapsed": true
   },
   "source": [
    " Use the [Spark CSV Library](https://github.com/databricks/spark-csv) to parse the tab separated file:"
   ]
  },
  {
   "cell_type": "code",
   "execution_count": 3,
   "metadata": {
    "collapsed": false
   },
   "outputs": [],
   "source": [
    "//Create a DataFrame with the anticipated structure\n",
    "val clickstreamDF = sqlContext.read.format(\"com.databricks.spark.csv\")\n",
    "  .option(\"header\", \"true\")\n",
    "  .option(\"delimiter\", \"\\t\")\n",
    "  .option(\"mode\", \"PERMISSIVE\")\n",
    "  .option(\"inferSchema\", \"true\")\n",
    "  .load(\"file:///mnt/ephemeral/summitdata/2015_01_clickstream.tsv\")"
   ]
  },
  {
   "cell_type": "markdown",
   "metadata": {
    "collapsed": true
   },
   "source": [
    " The `display()` function shows the DataFrame:"
   ]
  },
  {
   "cell_type": "code",
   "execution_count": 4,
   "metadata": {
    "collapsed": false
   },
   "outputs": [
    {
     "data": {
      "text/plain": [
       "org.apache.spark.sql.DataFrame = [prev_id: int, curr_id: int, n: int, prev_title: string, curr_title: string, type: string]"
      ]
     },
     "execution_count": 4,
     "metadata": {},
     "output_type": "execute_result"
    }
   ],
   "source": [
    "clickstreamDF"
   ]
  },
  {
   "cell_type": "markdown",
   "metadata": {
    "collapsed": true
   },
   "source": [
    " `printSchema()` prints out the schema, the data types and whether a column can be null:"
   ]
  },
  {
   "cell_type": "code",
   "execution_count": 5,
   "metadata": {
    "collapsed": false
   },
   "outputs": [
    {
     "name": "stdout",
     "output_type": "stream",
     "text": [
      "root\n",
      " |-- prev_id: integer (nullable = true)\n",
      " |-- curr_id: integer (nullable = true)\n",
      " |-- n: integer (nullable = true)\n",
      " |-- prev_title: string (nullable = true)\n",
      " |-- curr_title: string (nullable = true)\n",
      " |-- type: string (nullable = true)\n",
      "\n"
     ]
    }
   ],
   "source": [
    "clickstreamDF.printSchema()"
   ]
  },
  {
   "cell_type": "markdown",
   "metadata": {
    "collapsed": true
   },
   "source": [
    " The two id columns (prev_id and curr_id) are not used in this lab, so let's create a new DataFrame without them:"
   ]
  },
  {
   "cell_type": "code",
   "execution_count": 6,
   "metadata": {
    "collapsed": false
   },
   "outputs": [],
   "source": [
    "val clickstreamDF2 = clickstreamDF.select($\"prev_title\", $\"curr_title\", $\"n\", $\"type\")"
   ]
  },
  {
   "cell_type": "markdown",
   "metadata": {
    "collapsed": true
   },
   "source": [
    " `.show()` is similar to the `display()` fucntion, but it shows the data in an ASCII format:"
   ]
  },
  {
   "cell_type": "code",
   "execution_count": 7,
   "metadata": {
    "collapsed": false
   },
   "outputs": [
    {
     "name": "stdout",
     "output_type": "stream",
     "text": [
      "+---------------+----------+----+----+\n",
      "|     prev_title|curr_title|   n|type|\n",
      "+---------------+----------+----+----+\n",
      "|    other-empty|        !!| 415|null|\n",
      "|   other-google|        !!| 113|null|\n",
      "|other-wikipedia|        !!|  33|null|\n",
      "|    other-yahoo|       !!!|  25|null|\n",
      "|   other-google|       !!!|1193|null|\n",
      "+---------------+----------+----+----+\n",
      "only showing top 5 rows\n",
      "\n"
     ]
    }
   ],
   "source": [
    "clickstreamDF2.show(5)"
   ]
  },
  {
   "cell_type": "markdown",
   "metadata": {
    "collapsed": true
   },
   "source": [
    " Here is what the 6 columns mean:\n",
    "\n",
    "- `prev_id`: *(note, we already dropped this)* if the referer does not correspond to an article in the main namespace of English Wikipedia, this value will be empty. Otherwise, it contains the unique MediaWiki page ID of the article corresponding to the referer i.e. the previous article the client was on\n",
    "\n",
    "- `curr_id`: *(note, we already dropped this)* the MediaWiki unique page ID of the article the client requested\n",
    "\n",
    "- `prev_title`: the result of mapping the referer URL to the fixed set of values described above\n",
    "\n",
    "- `curr_title`: the title of the article the client requested\n",
    "\n",
    "- `n`: the number of occurrences of the (referer, resource) pair\n",
    "\n",
    "- `type`\n",
    "  - \"link\" if the referer and request are both articles and the referer links to the request\n",
    "  - \"redlink\" if the referer is an article and links to the request, but the request is not in the production enwiki.page table\n",
    "  - \"other\" if the referer and request are both articles but the referer does not link to the request. This can happen when clients search or spoof their refer"
   ]
  },
  {
   "cell_type": "markdown",
   "metadata": {
    "collapsed": true
   },
   "source": [
    " Referers were mapped to a fixed set of values corresponding to internal traffic or external traffic from one of the top 5 global traffic sources to English Wikipedia, based on this scheme:\n",
    "\n",
    ">- an article in the main namespace of English Wikipedia -> the article title\n",
    "- any Wikipedia page that is not in the main namespace of English Wikipedia -> `other-wikipedia`\n",
    "- an empty referer -> `other-empty`\n",
    "- a page from any other Wikimedia project -> `other-internal`\n",
    "- Google -> `other-google`\n",
    "- Yahoo -> `other-yahoo`\n",
    "- Bing -> `other-bing`\n",
    "- Facebook -> `other-facebook`\n",
    "- Twitter -> `other-twitter`\n",
    "- anything else -> `other-other`"
   ]
  },
  {
   "cell_type": "markdown",
   "metadata": {
    "collapsed": true
   },
   "source": [
    "### Reading from disk vs memory\n",
    "\n",
    "The 1.2 GB Clickstream file is currently on S3, which means each time you scan through it, your Spark cluster has to read the 1.2 GB of data remotely over the network."
   ]
  },
  {
   "cell_type": "markdown",
   "metadata": {
    "collapsed": true
   },
   "source": [
    " Call the `count()` action to check how many rows are in the DataFrame and to see how long it takes to read the DataFrame from S3:"
   ]
  },
  {
   "cell_type": "code",
   "execution_count": 19,
   "metadata": {
    "collapsed": false
   },
   "outputs": [
    {
     "data": {
      "text/plain": [
       "Long = 21996601"
      ]
     },
     "execution_count": 19,
     "metadata": {},
     "output_type": "execute_result"
    }
   ],
   "source": [
    "clickstreamDF2.count()"
   ]
  },
  {
   "cell_type": "markdown",
   "metadata": {
    "collapsed": true
   },
   "source": [
    " So it took about 1 minute to read the 1.2 GB file into your Spark cluster. The file has 22.5 million rows/lines. We should cache the DataFrame into memory so it'll be faster to work with:"
   ]
  },
  {
   "cell_type": "code",
   "execution_count": 20,
   "metadata": {
    "collapsed": false
   },
   "outputs": [
    {
     "name": "stdout",
     "output_type": "stream",
     "text": [
      "WARN  2016-02-13 03:22:44,328 org.apache.spark.sql.execution.CacheManager: Asked to cache already cached data.\n"
     ]
    },
    {
     "data": {
      "text/plain": [
       "Long = 21996601"
      ]
     },
     "execution_count": 20,
     "metadata": {},
     "output_type": "execute_result"
    }
   ],
   "source": [
    "// cache() is a lazy operation, so we need to call an action (like count) to materialize the cache\n",
    "clickstreamDF2.cache().count()"
   ]
  },
  {
   "cell_type": "markdown",
   "metadata": {
    "collapsed": true
   },
   "source": [
    " How much faster is the DataFrame to read from memory?"
   ]
  },
  {
   "cell_type": "code",
   "execution_count": 21,
   "metadata": {
    "collapsed": false
   },
   "outputs": [
    {
     "data": {
      "text/plain": [
       "Long = 21996601"
      ]
     },
     "execution_count": 21,
     "metadata": {},
     "output_type": "execute_result"
    }
   ],
   "source": [
    "clickstreamDF2.count()"
   ]
  },
  {
   "cell_type": "markdown",
   "metadata": {
    "collapsed": true
   },
   "source": [
    " Less than a second!"
   ]
  },
  {
   "cell_type": "markdown",
   "metadata": {
    "collapsed": true
   },
   "source": [
    " \n",
    "### Question #1:\n",
    "** What are the top 10 articles requested from Wikipedia?**"
   ]
  },
  {
   "cell_type": "markdown",
   "metadata": {
    "collapsed": true
   },
   "source": [
    " We start by grouping by the current title and summing the number of occurrances of the referrer/resource pair:"
   ]
  },
  {
   "cell_type": "code",
   "execution_count": 23,
   "metadata": {
    "collapsed": false
   },
   "outputs": [
    {
     "data": {
      "text/plain": [
       "org.apache.spark.sql.DataFrame = [curr_title: string, sum(n): bigint]"
      ]
     },
     "execution_count": 23,
     "metadata": {},
     "output_type": "execute_result"
    }
   ],
   "source": [
    "clickstreamDF2.groupBy(\"curr_title\").sum().limit(10)"
   ]
  },
  {
   "cell_type": "markdown",
   "metadata": {
    "collapsed": true
   },
   "source": [
    " To see just the top 10 articles requested, we also need to order by the sum of n column, in descending order.\n",
    "\n",
    "** Challenge 1:** Can you build upon the code in the cell above to also order by the sum column in descending order, then limit the results to the top ten?"
   ]
  },
  {
   "cell_type": "code",
   "execution_count": 24,
   "metadata": {
    "collapsed": false
   },
   "outputs": [
    {
     "data": {
      "text/plain": [
       "org.apache.spark.sql.DataFrame = [curr_title: string, sum(n): bigint]"
      ]
     },
     "execution_count": 24,
     "metadata": {},
     "output_type": "execute_result"
    }
   ],
   "source": [
    "//Type in your answer here...\n",
    "clickstreamDF2.groupBy(\"curr_title\").sum().orderBy($\"sum(n)\".desc).limit(10)"
   ]
  },
  {
   "cell_type": "markdown",
   "metadata": {
    "collapsed": true
   },
   "source": [
    " Spark SQL lets you seemlessly move between DataFrames and SQL. We can run the same query using SQL:"
   ]
  },
  {
   "cell_type": "code",
   "execution_count": 25,
   "metadata": {
    "collapsed": true
   },
   "outputs": [],
   "source": [
    "//First register the table, so we can call it from SQL\n",
    "clickstreamDF2.registerTempTable(\"clickstream\")"
   ]
  },
  {
   "cell_type": "markdown",
   "metadata": {
    "collapsed": true
   },
   "source": [
    " First do a simple \"Select all\" query from the `clickstream` table to make sure it's working:"
   ]
  },
  {
   "cell_type": "code",
   "execution_count": 27,
   "metadata": {
    "collapsed": false
   },
   "outputs": [
    {
     "name": "stdout",
     "output_type": "stream",
     "text": [
      "+---------------+----------+----+----+\n",
      "|     prev_title|curr_title|   n|type|\n",
      "+---------------+----------+----+----+\n",
      "|    other-empty|        !!| 415|null|\n",
      "|   other-google|        !!| 113|null|\n",
      "|other-wikipedia|        !!|  33|null|\n",
      "|    other-yahoo|       !!!|  25|null|\n",
      "|   other-google|       !!!|1193|null|\n",
      "+---------------+----------+----+----+\n",
      "\n"
     ]
    }
   ],
   "source": [
    "sqlContext.sql(\"SELECT * FROM clickstream LIMIT 5\").show"
   ]
  },
  {
   "cell_type": "markdown",
   "metadata": {
    "collapsed": true
   },
   "source": [
    " Now we can translate our DataFrames query to SQL:"
   ]
  },
  {
   "cell_type": "code",
   "execution_count": 32,
   "metadata": {
    "collapsed": false
   },
   "outputs": [
    {
     "name": "stdout",
     "output_type": "stream",
     "text": [
      "\r",
      "                                                                                \r",
      "+--------------------+------------+\n",
      "|          curr_title|top_articles|\n",
      "+--------------------+------------+\n",
      "|           Main_Page|   489603866|\n",
      "|          Chris_Kyle|     4211238|\n",
      "|             Malware|     4067814|\n",
      "|       Charlie_Hebdo|     2581856|\n",
      "|     Leptin_receptor|     2565856|\n",
      "|              Chrome|     1792151|\n",
      "|       Script_kiddie|     1779860|\n",
      "|American_Sniper_(...|     1753218|\n",
      "|Winston-Salem/For...|     1542559|\n",
      "|        Flow_control|     1369143|\n",
      "+--------------------+------------+\n",
      "\n"
     ]
    }
   ],
   "source": [
    "sqlContext.sql(\"SELECT curr_title, SUM(n) AS top_articles FROM clickstream GROUP BY curr_title ORDER BY top_articles DESC LIMIT 10\").show"
   ]
  },
  {
   "cell_type": "markdown",
   "metadata": {
    "collapsed": true
   },
   "source": [
    " The most requested articles tend to be about media that was popular in February 2015, with a few exceptions."
   ]
  },
  {
   "cell_type": "markdown",
   "metadata": {
    "collapsed": true
   },
   "source": [
    " SQL also has some handy commands like `DESC` (describe) to see the schema + data types for the table:"
   ]
  },
  {
   "cell_type": "code",
   "execution_count": 29,
   "metadata": {
    "collapsed": false
   },
   "outputs": [
    {
     "name": "stdout",
     "output_type": "stream",
     "text": [
      "+----------+---------+-------+\n",
      "|  col_name|data_type|comment|\n",
      "+----------+---------+-------+\n",
      "|prev_title|   string|       |\n",
      "|curr_title|   string|       |\n",
      "|         n|      int|       |\n",
      "|      type|   string|       |\n",
      "+----------+---------+-------+\n",
      "\n"
     ]
    }
   ],
   "source": [
    "sqlContext.sql(\"DESC clickstream\").show"
   ]
  },
  {
   "cell_type": "markdown",
   "metadata": {
    "collapsed": true
   },
   "source": [
    " You can use the `SHOW FUNCTIONS` command to see what functions are supported by Spark SQL:"
   ]
  },
  {
   "cell_type": "code",
   "execution_count": 34,
   "metadata": {
    "collapsed": false
   },
   "outputs": [
    {
     "name": "stdout",
     "output_type": "stream",
     "text": [
      "+--------------------+\n",
      "|            function|\n",
      "+--------------------+\n",
      "|                   !|\n",
      "|                  !=|\n",
      "|                   %|\n",
      "|                   &|\n",
      "|                   *|\n",
      "|                   +|\n",
      "|                   -|\n",
      "|                   /|\n",
      "|                   <|\n",
      "|                  <=|\n",
      "|                 <=>|\n",
      "|                  <>|\n",
      "|                   =|\n",
      "|                  ==|\n",
      "|                   >|\n",
      "|                  >=|\n",
      "|                   ^|\n",
      "|                 abs|\n",
      "|                acos|\n",
      "|          add_months|\n",
      "|                 and|\n",
      "|approx_count_dist...|\n",
      "|               array|\n",
      "|      array_contains|\n",
      "|               ascii|\n",
      "|                asin|\n",
      "|         assert_true|\n",
      "|                atan|\n",
      "|               atan2|\n",
      "|                 avg|\n",
      "|              base64|\n",
      "|             between|\n",
      "|              bigint|\n",
      "|                 bin|\n",
      "|              binary|\n",
      "|             boolean|\n",
      "|                case|\n",
      "|                cbrt|\n",
      "|                ceil|\n",
      "|             ceiling|\n",
      "|                char|\n",
      "|            coalesce|\n",
      "|        collect_list|\n",
      "|         collect_set|\n",
      "|       compute_stats|\n",
      "|              concat|\n",
      "|           concat_ws|\n",
      "|      context_ngrams|\n",
      "|                conv|\n",
      "|                corr|\n",
      "+--------------------+\n",
      "only showing top 50 rows\n",
      "\n"
     ]
    }
   ],
   "source": [
    "sqlContext.sql(\"SHOW FUNCTIONS\").show(50)"
   ]
  },
  {
   "cell_type": "markdown",
   "metadata": {
    "collapsed": true
   },
   "source": [
    " `EXPLAIN` can be used to understand the Physical Plan of the SQL statement:"
   ]
  },
  {
   "cell_type": "code",
   "execution_count": null,
   "metadata": {
    "collapsed": true
   },
   "outputs": [],
   "source": [
    "%sql EXPLAIN SELECT curr_title, SUM(n) AS top_articles FROM clickstream GROUP BY curr_title ORDER BY top_articles DESC;"
   ]
  },
  {
   "cell_type": "markdown",
   "metadata": {
    "collapsed": true
   },
   "source": [
    " Since Spark SQL is not designed to be a low-latency transactional database (like MySQL or Cassandra), INSERTs, UPDATEs and DELETEs are not supported. (Spark SQL is typically used for batch analysis of data)"
   ]
  },
  {
   "cell_type": "markdown",
   "metadata": {
    "collapsed": true
   },
   "source": [
    " \n",
    "### Question #2:\n",
    "** Who sent the most traffic to Wikipedia in Feb 2015?** So, who were the top referers to Wikipedia?"
   ]
  },
  {
   "cell_type": "code",
   "execution_count": 35,
   "metadata": {
    "collapsed": false
   },
   "outputs": [
    {
     "name": "stdout",
     "output_type": "stream",
     "text": [
      "\r",
      "                                                                                \r",
      "+---------------+----------+\n",
      "|     prev_title|    sum(n)|\n",
      "+---------------+----------+\n",
      "|   other-google|1583172874|\n",
      "|    other-empty|1039020465|\n",
      "|other-wikipedia|  99610051|\n",
      "|          other|  83225546|\n",
      "|     other-bing|  64539160|\n",
      "|    other-yahoo|  49074812|\n",
      "|      Main_Page|  25077303|\n",
      "|  other-twitter|  22541757|\n",
      "| other-facebook|   2599787|\n",
      "|     Chris_Kyle|   1547364|\n",
      "+---------------+----------+\n",
      "only showing top 10 rows\n",
      "\n"
     ]
    }
   ],
   "source": [
    "clickstreamDF2\n",
    "  .groupBy(\"prev_title\")\n",
    "  .sum()\n",
    "  .orderBy($\"sum(n)\".desc)\n",
    "  .show(10)"
   ]
  },
  {
   "cell_type": "markdown",
   "metadata": {
    "collapsed": true
   },
   "source": [
    " The top referer by a large margin is Google. Next comes refererless traffic (usually clients using HTTPS). The third largest sender of traffic to English Wikipedia are Wikipedia pages that are not in the main namespace (ns = 0) of English Wikipedia. Learn about the Wikipedia namespaces here:\n",
    "https://en.wikipedia.org/wiki/Wikipedia:Project_namespace\n",
    "\n",
    "Also, note that Twitter sends 10x more requests to Wikipedia than Facebook."
   ]
  },
  {
   "cell_type": "markdown",
   "metadata": {
    "collapsed": true
   },
   "source": [
    " \n",
    "### Question #3:\n",
    "** What were the top 5 trending articles on Twitter in Feb 2015?**\n",
    "\n",
    "** Challenge 2:** Can you answer this question using DataFrames?"
   ]
  },
  {
   "cell_type": "code",
   "execution_count": 39,
   "metadata": {
    "collapsed": false
   },
   "outputs": [
    {
     "name": "stdout",
     "output_type": "stream",
     "text": [
      "\r",
      "                                                                                \r",
      "+----------------+------+\n",
      "|      curr_title|sum(n)|\n",
      "+----------------+------+\n",
      "| Andr?_the_Giant|286710|\n",
      "|Harald_Bluetooth|258130|\n",
      "|    London_Stone|247418|\n",
      "|         Yaodong|184078|\n",
      "|    New_Horizons|174157|\n",
      "+----------------+------+\n",
      "\n"
     ]
    }
   ],
   "source": [
    "//Type in your answer here\n",
    "clickstreamDF2\n",
    "  .filter(\"prev_title = 'other-twitter'\")\n",
    "  .groupBy(\"curr_title\")\n",
    "  .sum()\n",
    "  .orderBy($\"sum(n)\".desc)\n",
    "  .limit(5).show"
   ]
  },
  {
   "cell_type": "markdown",
   "metadata": {
    "collapsed": true
   },
   "source": [
    " ** Challenge 3:** Try re-writing the query above using SQL:"
   ]
  },
  {
   "cell_type": "code",
   "execution_count": null,
   "metadata": {
    "collapsed": true
   },
   "outputs": [],
   "source": [
    "%sql SELECT curr_title, SUM(n) AS top_twitter FROM clickstream WHERE prev_title = \"other-twitter\" GROUP BY curr_title ORDER BY top_twitter DESC LIMIT 5;"
   ]
  },
  {
   "cell_type": "markdown",
   "metadata": {
    "collapsed": true
   },
   "source": [
    " \n",
    "### Question #4:\n",
    "** What are the most requested missing pages? ** (These are the articles that someone should create on Wikipedia!)"
   ]
  },
  {
   "cell_type": "markdown",
   "metadata": {
    "collapsed": true
   },
   "source": [
    " The type column of our table has 3 possible values:"
   ]
  },
  {
   "cell_type": "code",
   "execution_count": null,
   "metadata": {
    "collapsed": true
   },
   "outputs": [],
   "source": [
    "%sql SELECT DISTINCT type FROM clickstream;"
   ]
  },
  {
   "cell_type": "markdown",
   "metadata": {
    "collapsed": true
   },
   "source": [
    " These are described as:\n",
    "  - **link** - if the referer and request are both articles and the referer links to the request\n",
    "  - **redlink** - if the referer is an article and links to the request, but the request is not in the production enwiki.page table\n",
    "  - **other** - if the referer and request are both articles but the referer does not link to the request. This can happen when clients search or spoof their refer"
   ]
  },
  {
   "cell_type": "markdown",
   "metadata": {
    "collapsed": true
   },
   "source": [
    " Redlinks are links to a Wikipedia page that does not exist, either because it has been deleted, or because the author is anticipating the creation of the page. Seeing which redlinks are the most viewed is interesting because it gives some indication about demand for missing content.\n",
    "\n",
    "Let's find the most popular redlinks:"
   ]
  },
  {
   "cell_type": "code",
   "execution_count": null,
   "metadata": {
    "collapsed": true
   },
   "outputs": [],
   "source": [
    "display(clickstreamDF2.filter(\"type = 'redlink'\").groupBy(\"curr_title\").sum().orderBy($\"sum(n)\".desc).limit(5))"
   ]
  },
  {
   "cell_type": "markdown",
   "metadata": {
    "collapsed": true
   },
   "source": [
    " Indeed there doesn't appear to be an article on the Russian actress [Anna Lezhneva](https://en.wikipedia.org/wiki/Anna_Lezhneva) on Wikipedia. Maybe you should create it!\n",
    "\n",
    "Note that if you clicked on the link for Anna Lezhneva in this cell, then you registered another Redlink for her article."
   ]
  },
  {
   "cell_type": "markdown",
   "metadata": {
    "collapsed": true
   },
   "source": [
    " \n",
    "### Question #5:\n",
    "** What does the traffic inflow vs outflow look like for the most requested pages? **"
   ]
  },
  {
   "cell_type": "markdown",
   "metadata": {
    "collapsed": true
   },
   "source": [
    " Wikipedia users get to their desired article by either searching for the article in a search engine or navigating from one Wikipedia article to another by following a link. For example, depending on which technique a user used to get to his desired article of **San Francisco**, the (`prev_title`, `curr_title`) tuples would look like:\n",
    "- (`other-google`, `San_Francisco`)\n",
    "or\n",
    "- (`Berkeley`, `San_Francisco`)"
   ]
  },
  {
   "cell_type": "markdown",
   "metadata": {
    "collapsed": true
   },
   "source": [
    " Lets look at the ratio of incoming to outgoing links for the most requested pages."
   ]
  },
  {
   "cell_type": "markdown",
   "metadata": {
    "collapsed": true
   },
   "source": [
    " First, find the pageviews per article:"
   ]
  },
  {
   "cell_type": "code",
   "execution_count": null,
   "metadata": {
    "collapsed": true
   },
   "outputs": [],
   "source": [
    "val pageviewsPerArticleDF = clickstreamDF2\n",
    "  .groupBy(\"curr_title\")\n",
    "  .sum(\n",
    "  ).withColumnRenamed(\"sum(n)\", \"in_count\")\n",
    "  .cache()\n",
    "\n",
    "pageviewsPerArticleDF.show(10)"
   ]
  },
  {
   "cell_type": "markdown",
   "metadata": {
    "collapsed": true
   },
   "source": [
    " Above we can see that the `.17_Remington` article on Wikipedia in Feb 2015, got 2,143 views."
   ]
  },
  {
   "cell_type": "markdown",
   "metadata": {
    "collapsed": true
   },
   "source": [
    " Then, find the link clicks per article:"
   ]
  },
  {
   "cell_type": "code",
   "execution_count": null,
   "metadata": {
    "collapsed": true
   },
   "outputs": [],
   "source": [
    "val linkclicksPerArticleDF = clickstreamDF2\n",
    "  .groupBy(\"prev_title\")\n",
    "  .sum()\n",
    "  .withColumnRenamed(\"sum(n)\", \"out_count\")\n",
    "  .cache()\n",
    "\n",
    "linkclicksPerArticleDF.show(10)"
   ]
  },
  {
   "cell_type": "markdown",
   "metadata": {
    "collapsed": true
   },
   "source": [
    " So, when people went to the `David_Janson` article on Wikipedia in Feb 2015, 340 times they clicked on a link in that article to go to a next article. "
   ]
  },
  {
   "cell_type": "markdown",
   "metadata": {
    "collapsed": true
   },
   "source": [
    " Join the two DataFrames we just created to get a wholistic picture:"
   ]
  },
  {
   "cell_type": "code",
   "execution_count": null,
   "metadata": {
    "collapsed": true
   },
   "outputs": [],
   "source": [
    "val in_outDF = pageviewsPerArticleDF.join(linkclicksPerArticleDF, ($\"curr_title\" === $\"prev_title\")).orderBy($\"in_count\".desc)\n",
    "\n",
    "in_outDF.show(10)"
   ]
  },
  {
   "cell_type": "markdown",
   "metadata": {
    "collapsed": true
   },
   "source": [
    " The `curr_title` and `prev_title` above are the same, so we can just display one of them in the future. Next, add a new `ratio` column to easily see whether there is more `in_count` or `out_count` for an article:"
   ]
  },
  {
   "cell_type": "code",
   "execution_count": null,
   "metadata": {
    "collapsed": true
   },
   "outputs": [],
   "source": [
    "val in_out_ratioDF = in_outDF.withColumn(\"ratio\", $\"out_count\" / $\"in_count\").cache()\n",
    "\n",
    "in_out_ratioDF.select($\"curr_title\", $\"in_count\", $\"out_count\", $\"ratio\").show(5)"
   ]
  },
  {
   "cell_type": "markdown",
   "metadata": {
    "collapsed": true
   },
   "source": [
    " We can see above that when clients went to the **Alive** article, almost nobody clicked any links in the article to go on to another article.\n",
    "\n",
    "But 49% of people who visited the **Fifty Shades of Grey** article clicked on a link in the article and continued to browse Wikipedia."
   ]
  },
  {
   "cell_type": "markdown",
   "metadata": {
    "collapsed": true
   },
   "source": [
    " \n",
    "### Question #6:\n",
    "** What does the traffic flow pattern look like for the \"San Francisco\" article? Create a visualization for this. **"
   ]
  },
  {
   "cell_type": "code",
   "execution_count": null,
   "metadata": {
    "collapsed": true
   },
   "outputs": [],
   "source": [
    "in_out_ratioDF.filter(\"curr_title = 'San_Francisco'\").show()"
   ]
  },
  {
   "cell_type": "markdown",
   "metadata": {
    "collapsed": true
   },
   "source": [
    " Hmm, so about 41% of clients who visit the San_Francisco page, click on through to another article."
   ]
  },
  {
   "cell_type": "markdown",
   "metadata": {
    "collapsed": true
   },
   "source": [
    " Which referrers send the most traffic to the \"San Francisco\" article?"
   ]
  },
  {
   "cell_type": "code",
   "execution_count": null,
   "metadata": {
    "collapsed": true
   },
   "outputs": [],
   "source": [
    "%sql SELECT * FROM clickstream WHERE curr_title LIKE 'San_Francisco' ORDER BY n DESC LIMIT 10;"
   ]
  },
  {
   "cell_type": "markdown",
   "metadata": {
    "collapsed": true
   },
   "source": [
    " Here's the same query using DataFrames and `show()`:"
   ]
  },
  {
   "cell_type": "code",
   "execution_count": null,
   "metadata": {
    "collapsed": true
   },
   "outputs": [],
   "source": [
    "clickstreamDF2.filter($\"curr_title\".rlike(\"\"\"^San_Francisco$\"\"\")).orderBy($\"n\".desc).show(10)"
   ]
  },
  {
   "cell_type": "markdown",
   "metadata": {
    "collapsed": true
   },
   "source": [
    " ** Challenge 4:** Which future articles does the San_Francisco article send most traffic onward to? Try writing this query using the DataFrames API:"
   ]
  },
  {
   "cell_type": "code",
   "execution_count": null,
   "metadata": {
    "collapsed": true
   },
   "outputs": [],
   "source": [
    "//Type in your answer here...\n",
    "display(clickstreamDF2.filter($\"prev_title\".rlike(\"\"\"^San_Francisco$\"\"\")).orderBy($\"n\".desc))"
   ]
  },
  {
   "cell_type": "markdown",
   "metadata": {
    "collapsed": true
   },
   "source": [
    " Above we can see the topics most people are interested in, when they get to the San_Francisco article. The [Golden_Gate_Bridge](https://en.wikipedia.org/wiki/Golden_Gate_Bridge) is the second most clicked on link in the San_Francisco article."
   ]
  },
  {
   "cell_type": "markdown",
   "metadata": {
    "collapsed": true
   },
   "source": [
    " Finally, we'll use a Google Visualization library to create a Sankey diagram. Sankey diagrams are a flow diagram, in which the width of the arrows are shown proportionally to the flow quantify traffic:"
   ]
  },
  {
   "cell_type": "code",
   "execution_count": 12,
   "metadata": {
    "collapsed": false
   },
   "outputs": [
    {
     "data": {
      "text/html": [
       "\n",
       "<!DOCTYPE html>\n",
       "<body>\n",
       "<script type=\"text/javascript\"\n",
       "           src=\"https://www.google.com/jsapi?autoload={'modules':[{'name':'visualization','version':'1.1','packages':['sankey']}]}\">\n",
       "</script>\n",
       "\n",
       "<div id=\"sankey_multiple\" style=\"width: 900px; height: 300px;\"></div>\n",
       "\n",
       "<script type=\"text/javascript\">\n",
       "google.setOnLoadCallback(drawChart);\n",
       "   function drawChart() {\n",
       "    var data = new google.visualization.DataTable();\n",
       "    data.addColumn('string', 'From');\n",
       "    data.addColumn('string', 'To');\n",
       "    data.addColumn('number', 'Weight');\n",
       "    data.addRows([\n",
       "['other-google', 'San_Francisco', 53387],\n",
       "['other-empty', 'San_Francisco', 14299],\n",
       "['other-wikipedia', 'San_Francisco', 7806],\n",
       "['other-other', 'San_Francisco', 2674],\n",
       "['other-bing', 'San_Francisco', 2298],\n",
       "['Main_Page', 'San_Francisco', 1804],\n",
       "['California', 'San_Francisco', 1578],\n",
       "['San_Francisco', 'List_of_people_from_San_Francisco', 1352],\n",
       "['San_Francisco', 'Golden_Gate_Bridge', 1263],\n",
       "['San_Francisco', 'California ', 1064],\n",
       "['San_Francisco', 'Los_Angeles', 1014],\n",
       "['San_Francisco', '1906_San_Francisco_earthquake', 816],\n",
       "['San_Francisco', 'Consolidated_city-county', 804],\n",
       "['San_Francisco', 'Alcatraz_Island', 788],\n",
       "]);\n",
       "    // Set chart options\n",
       "    var options = {\n",
       "      width: 600,\n",
       "      sankey: {\n",
       "        link: { color: { fill: '#grey', fillOpacity: 0.3 } },\n",
       "        node: { color: { fill: '#a61d4c' },\n",
       "                label: { color: 'black' } },\n",
       "}\n",
       "};\n",
       "    // Instantiate and draw our chart, passing in some options.\n",
       "    var chart = new google.visualization.Sankey(document.getElementById('sankey_multiple'));\n",
       "    chart.draw(data, options);\n",
       "}\n",
       "</script>\n",
       "  </body>\n",
       "</html>"
      ]
     },
     "execution_count": 12,
     "metadata": {},
     "output_type": "execute_result"
    }
   ],
   "source": [
    "// Note you may need to disable your privacy browser extensions to make this work (especially Privacy Badger)\n",
    "\n",
    "kernel.magics.html(\"\"\"\n",
    "<!DOCTYPE html>\n",
    "<body>\n",
    "<script type=\"text/javascript\"\n",
    "           src=\"https://www.google.com/jsapi?autoload={'modules':[{'name':'visualization','version':'1.1','packages':['sankey']}]}\">\n",
    "</script>\n",
    "\n",
    "<div id=\"sankey_multiple\" style=\"width: 900px; height: 300px;\"></div>\n",
    "\n",
    "<script type=\"text/javascript\">\n",
    "google.setOnLoadCallback(drawChart);\n",
    "   function drawChart() {\n",
    "    var data = new google.visualization.DataTable();\n",
    "    data.addColumn('string', 'From');\n",
    "    data.addColumn('string', 'To');\n",
    "    data.addColumn('number', 'Weight');\n",
    "    data.addRows([\n",
    "      ['other-google', 'San_Francisco', 53387],\n",
    " ['other-empty', 'San_Francisco', 14299],\n",
    " ['other-wikipedia', 'San_Francisco', 7806],\n",
    " ['other-other', 'San_Francisco', 2674],\n",
    " ['other-bing', 'San_Francisco', 2298],\n",
    " ['Main_Page', 'San_Francisco', 1804],\n",
    " ['California', 'San_Francisco', 1578],\n",
    " ['San_Francisco', 'List_of_people_from_San_Francisco', 1352],\n",
    " ['San_Francisco', 'Golden_Gate_Bridge', 1263],\n",
    " ['San_Francisco', 'California ', 1064],\n",
    " ['San_Francisco', 'Los_Angeles', 1014],\n",
    " ['San_Francisco', '1906_San_Francisco_earthquake', 816],\n",
    " ['San_Francisco', 'Consolidated_city-county', 804],\n",
    " ['San_Francisco', 'Alcatraz_Island', 788],\n",
    "    ]);\n",
    "    // Set chart options\n",
    "    var options = {\n",
    "      width: 600,\n",
    "      sankey: {\n",
    "        link: { color: { fill: '#grey', fillOpacity: 0.3 } },\n",
    "        node: { color: { fill: '#a61d4c' },\n",
    "                label: { color: 'black' } },\n",
    "      }\n",
    "    };\n",
    "    // Instantiate and draw our chart, passing in some options.\n",
    "    var chart = new google.visualization.Sankey(document.getElementById('sankey_multiple'));\n",
    "    chart.draw(data, options);\n",
    "   }\n",
    "</script>\n",
    "  </body>\n",
    "</html>\"\"\")"
   ]
  },
  {
   "cell_type": "markdown",
   "metadata": {
    "collapsed": true
   },
   "source": [
    " The chart above shows how people get to a Wikipedia article and what articles they click on next.\n",
    "\n",
    "This diagram shows incoming and outgoing traffic to the \"San Francisco\" article. We can see that most people found the \"San Francisco\" page through Google search and only a small fraction of the readers went on to another article (most went on to the \"List of people in San Francisco\" article)"
   ]
  },
  {
   "cell_type": "markdown",
   "metadata": {
    "collapsed": true
   },
   "source": [
    " Note that it is also possible to programmatically add in the values in the HTML, so you don't have to hand-code it. But to keep things simple, we've hand coded it above."
   ]
  },
  {
   "cell_type": "markdown",
   "metadata": {
    "collapsed": true
   },
   "source": [
    " \n",
    "### Bonus:\n",
    "** Learning about Explain to understand Catalyst internals **"
   ]
  },
  {
   "cell_type": "markdown",
   "metadata": {
    "collapsed": true
   },
   "source": [
    " The `explain()` method can be called on a DataFrame to understand its physical plan:"
   ]
  },
  {
   "cell_type": "code",
   "execution_count": null,
   "metadata": {
    "collapsed": true
   },
   "outputs": [],
   "source": [
    "in_out_ratioDF.explain()"
   ]
  },
  {
   "cell_type": "markdown",
   "metadata": {
    "collapsed": true
   },
   "source": [
    " You can also pass in `true` to see the logical & physical plans:"
   ]
  },
  {
   "cell_type": "code",
   "execution_count": null,
   "metadata": {
    "collapsed": true
   },
   "outputs": [],
   "source": [
    "in_out_ratioDF.explain(true)"
   ]
  },
  {
   "cell_type": "markdown",
   "metadata": {
    "collapsed": true
   },
   "source": [
    " This concludes the Clickstream lab."
   ]
  },
  {
   "cell_type": "markdown",
   "metadata": {
    "collapsed": true
   },
   "source": [
    " \n",
    "### Homework:\n",
    "** Recreate the same visualization above, but instead of the \"San Francisco\" article, choose another topic you care about (maybe `Apache_Spark`?).**"
   ]
  },
  {
   "cell_type": "markdown",
   "metadata": {
    "collapsed": true
   },
   "source": [
    " ###Post lab demos below:\n",
    "\n",
    "This section will be covered by the instructor using a hands-on demo shortly..."
   ]
  },
  {
   "cell_type": "markdown",
   "metadata": {
    "collapsed": true
   },
   "source": [
    " Which pages multiplied input clicks the most?"
   ]
  },
  {
   "cell_type": "code",
   "execution_count": null,
   "metadata": {
    "collapsed": true
   },
   "outputs": [],
   "source": [
    "clickstreamDF2.show(3)"
   ]
  },
  {
   "cell_type": "code",
   "execution_count": null,
   "metadata": {
    "collapsed": true
   },
   "outputs": [],
   "source": [
    "val inClicksDF = clickstreamDF2\n",
    "  .groupBy($\"curr_title\")\n",
    "  .sum()\n",
    "  .withColumnRenamed(\"sum(n)\", \"in_clicks\")\n",
    "  .select($\"curr_title\", $\"in_clicks\")\n",
    "  .as(\"in\")"
   ]
  },
  {
   "cell_type": "code",
   "execution_count": null,
   "metadata": {
    "collapsed": true
   },
   "outputs": [],
   "source": [
    "inClicksDF.show(5)"
   ]
  },
  {
   "cell_type": "code",
   "execution_count": null,
   "metadata": {
    "collapsed": true
   },
   "outputs": [],
   "source": [
    "val outClicksDF = clickstreamDF2\n",
    "\t.filter($\"type\" === \"link\")\n",
    "\t.groupBy($\"prev_title\")\n",
    "\t.sum()\n",
    "\t.withColumnRenamed(\"sum(n)\", \"out_clicks\")\n",
    "\t.select($\"prev_title\", $\"out_clicks\")\n",
    "\t.as(\"out\")"
   ]
  },
  {
   "cell_type": "code",
   "execution_count": null,
   "metadata": {
    "collapsed": true
   },
   "outputs": [],
   "source": [
    "outClicksDF.show(5)"
   ]
  },
  {
   "cell_type": "markdown",
   "metadata": {
    "collapsed": true
   },
   "source": [
    " Notes...Mention that the filter is good, removes 50% of data\n",
    "Then Aggregate? partial aggregation, dont? worry about details\n",
    "then shuffle\n",
    "then reduce side aggregation\n",
    "Cartesian Product: very expensive? joining every single row on left to rows on right? takes forever\n",
    "Get?s triggered by UDF.. during join, we?re passing in an arbitrary function.. so the user can do whatever they want in the function?\n",
    "but take a closer look at the body of the UDF above (title1.toLowercase == title2.toLowerCase, you can see that we?re just doing a simple eqality check\n",
    "b/c it?s an arbitrary UDF, Catalyst (SQL query optimizer) doesn?t know how to optimize this join b/c it doesn?t understand it.. it?s opaque\n",
    "Solution: a better UDF, here we explicitly use the built in Spark SQL equality expression that Catalyst does understand. I?m still using a UDF to convert to lowercase, just not for equality\n",
    "Now verify CP is gone in UI."
   ]
  },
  {
   "cell_type": "code",
   "execution_count": null,
   "metadata": {
    "collapsed": true
   },
   "outputs": [],
   "source": [
    "// Define a UDF for comparing article titles\n",
    "val compareUDF = udf((title1: String, title2: String) => title1.toLowerCase == title2.toLowerCase)"
   ]
  },
  {
   "cell_type": "code",
   "execution_count": null,
   "metadata": {
    "collapsed": true
   },
   "outputs": [],
   "source": [
    "// Join these 2 DFs to find the (output clicks) / (input clicks) factor\n",
    "val joinedDF = outClicksDF\n",
    "\t.join(inClicksDF, compareUDF($\"in.curr_title\", $\"out.prev_title\"))\n",
    "\t.withColumn(\"multiplication_factor\", $\"out_clicks\" / $\"in_clicks\")\n",
    "\t.select($\"in.curr_title\", $\"in_clicks\", $\"out_clicks\", $\"multiplication_factor\")\n",
    "\n",
    "display(joinedDF.orderBy($\"multiplication_factor\".desc))"
   ]
  },
  {
   "cell_type": "code",
   "execution_count": null,
   "metadata": {
    "collapsed": true
   },
   "outputs": [],
   "source": [
    "// Define a UDF for comparing article titles\n",
    "val formatUDF = udf((title1: String) => title1.toLowerCase)"
   ]
  },
  {
   "cell_type": "code",
   "execution_count": null,
   "metadata": {
    "collapsed": true
   },
   "outputs": [],
   "source": [
    "// Fixed performance issue\n",
    "val joinedDF = outClicksDF\n",
    "\t.join(inClicksDF, formatUDF($\"in.curr_title\") === formatUDF($\"out.prev_title\"))\n",
    "\t.withColumn(\"multiplication_factor\", $\"out_clicks\" / $\"in_clicks\")\n",
    "\t.select($\"in.curr_title\", $\"in_clicks\", $\"out_clicks\", $\"multiplication_factor\")\n",
    "\n",
    "display(joinedDF.orderBy($\"multiplication_factor\".desc))"
   ]
  },
  {
   "cell_type": "code",
   "execution_count": 18,
   "metadata": {
    "collapsed": false
   },
   "outputs": [
    {
     "data": {
      "text/plain": [
       "Name: Compile Error\n",
       "Message: <console>:30: error: not found: value outClicksDF\n",
       "       val joinedDF2 = outClicksDF\n",
       "                       ^\n",
       "StackTrace: "
      ]
     },
     "execution_count": 18,
     "metadata": {},
     "output_type": "execute_result"
    }
   ],
   "source": [
    "// Fixed performance issue\n",
    "val joinedDF2 = outClicksDF\n",
    "\t.join(inClicksDF, formatUDF($\"in.curr_title\") === formatUDF($\"out.prev_title\"))\n",
    "\t.withColumn(\"multiplication_factor\", $\"out_clicks\" / $\"in_clicks\")\n",
    "\t.select($\"in.curr_title\", $\"in_clicks\", $\"out_clicks\", $\"multiplication_factor\")\n",
    "\n",
    "display(joinedDF2.orderBy($\"multiplication_factor\"))"
   ]
  },
  {
   "cell_type": "markdown",
   "metadata": {
    "collapsed": true
   },
   "source": [
    " Interesting, looks like mostly cities, tech and colors."
   ]
  }
 ],
 "metadata": {
  "kernelspec": {
   "display_name": "Spark-DSE Cluster",
   "language": "scala",
   "name": "spark-dse-cluster"
  },
  "language_info": {
   "name": "scala"
  }
 },
 "nbformat": 4,
 "nbformat_minor": 0
}
