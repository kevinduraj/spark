{
 "cells": [
  {
   "cell_type": "markdown",
   "metadata": {
    "collapsed": true
   },
   "source": [
    "// Databricks notebook source exported at Sun, 21 Feb 2016 05:11:31 UTC\n",
    " ### Solutions to clickstreamDF RunMe lab"
   ]
  },
  {
   "cell_type": "markdown",
   "metadata": {
    "collapsed": true
   },
   "source": [
    " **Solutions to Question #3:** What are the top 10 articles requested from Wikipedia?"
   ]
  },
  {
   "cell_type": "code",
   "execution_count": null,
   "metadata": {
    "collapsed": false
   },
   "outputs": [],
   "source": [
    "// Answer to Challenge 1\n",
    "\n",
    "clickstreamDF2.groupBy(\"curr_title\").sum().orderBy($\"sum(n)\".desc).limit(10)"
   ]
  },
  {
   "cell_type": "markdown",
   "metadata": {
    "collapsed": true
   },
   "source": [
    " **Solutions to Question #5:** What percentage of the traffic Wikipedia received came from other English Wikipedia pages?"
   ]
  },
  {
   "cell_type": "code",
   "execution_count": null,
   "metadata": {
    "collapsed": true
   },
   "outputs": [],
   "source": [
    "// Answer to Challenge 2\n",
    "\n",
    "clickstreamDF2\n",
    "  .filter(\"prev_title != 'other-google'\")\n",
    "  .filter(\"prev_title != 'other-twitter'\")\n",
    "  .filter(\"prev_title != 'other-facebook'\")\n",
    "  .filter(\"prev_title != 'other-yahoo'\")\n",
    "  .filter(\"prev_title != 'other-bing'\")\n",
    "  .filter(\"prev_title != 'other-wikipedia'\")\n",
    "  .filter(\"prev_title != 'other-empty'\")\n",
    "  .filter(\"prev_title != 'other-other'\")\n",
    "  .select(sum($\"n\"))\n",
    "  .show()"
   ]
  },
  {
   "cell_type": "markdown",
   "metadata": {
    "collapsed": true
   },
   "source": [
    " **Solutions to Question #6:** What were the top 5 trending articles on Twitter in Feb 2015?"
   ]
  },
  {
   "cell_type": "code",
   "execution_count": null,
   "metadata": {
    "collapsed": true
   },
   "outputs": [],
   "source": [
    "// Answer to Challenge 3\n",
    "\n",
    "clickstreamDF2\n",
    "  .filter(\"prev_title = 'other-twitter'\")\n",
    "  .groupBy(\"curr_title\")\n",
    "  .sum()\n",
    "  .orderBy($\"sum(n)\".desc)\n",
    "  .limit(5)"
   ]
  },
  {
   "cell_type": "code",
   "execution_count": null,
   "metadata": {
    "collapsed": true
   },
   "outputs": [],
   "source": [
    "//Answer to Challenge 4\n",
    "\n",
    "%sql SELECT curr_title, SUM(n) AS top_twitter FROM clickstream WHERE prev_title = \"other-twitter\" GROUP BY curr_title ORDER BY top_twitter DESC LIMIT 5;"
   ]
  },
  {
   "cell_type": "markdown",
   "metadata": {
    "collapsed": true
   },
   "source": [
    "  **Solutions to Question #9:**\n",
    "What does the traffic flow pattern look like for the \"San Francisco\" article? \n",
    "\n",
    "Which future articles does the New_York_City article send most traffic onward to? Try writing this query using the DataFrames API:"
   ]
  },
  {
   "cell_type": "code",
   "execution_count": null,
   "metadata": {
    "collapsed": true
   },
   "outputs": [],
   "source": []
  }
 ],
 "metadata": {
  "kernelspec": {
   "display_name": "Spark-DSE Cluster",
   "language": "scala",
   "name": "spark-dse-cluster"
  },
  "language_info": {
   "name": "scala"
  }
 },
 "nbformat": 4,
 "nbformat_minor": 0
}
