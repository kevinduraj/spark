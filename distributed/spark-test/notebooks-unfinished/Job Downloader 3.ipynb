{
 "cells": [
  {
   "cell_type": "markdown",
   "metadata": {
    "collapsed": true
   },
   "source": [
    "// Databricks notebook source exported at Sun, 21 Feb 2016 05:12:57 UTC\n",
    " #### This notebooks downloads the latest Pagecounts file from the Wikimedia Foundation to a staging folder in S3."
   ]
  },
  {
   "cell_type": "code",
   "execution_count": null,
   "metadata": {
    "collapsed": true
   },
   "outputs": [],
   "source": [
    "import scala.io.Source\n",
    "import java.text.SimpleDateFormat\n",
    "import java.util.Calendar\n",
    "import sys.process._\n",
    "import scala.language.postfixOps\n",
    "import java.net.URL\n",
    "import java.io.File\n",
    "import scala.util.matching.Regex\n",
    "import scala.collection.mutable"
   ]
  },
  {
   "cell_type": "markdown",
   "metadata": {
    "collapsed": true
   },
   "source": [
    " #### Decide what the latest hourly pagecounts file is:"
   ]
  },
  {
   "cell_type": "markdown",
   "metadata": {
    "collapsed": true
   },
   "source": [
    " The function in the next cell will:\n",
    "* Check the current year and month locally\n",
    "* Go to wikimedia.org to download the webpage (html file) for the current month's file dumps to the local Driver container\n",
    "* Parse the downloaded webpage and find the latest file to download\n",
    "* Return the URL for the latest file to download"
   ]
  },
  {
   "cell_type": "code",
   "execution_count": null,
   "metadata": {
    "collapsed": true
   },
   "outputs": [],
   "source": [
    "// Define a function that figures out what the latest file is\n",
    "def decideLatestFile():String = {\n",
    "\n",
    "  // Construct the URL to download the todays pagecounts webpage from WMF\n",
    "  val today = new java.util.Date\n",
    "  \n",
    "  val yearFormat = new SimpleDateFormat(\"y\")\n",
    "  val year = yearFormat.format(today)\n",
    "  \n",
    "  val monthFormat = new SimpleDateFormat(\"MM\")\n",
    "  val month = monthFormat.format(today)\n",
    "  \n",
    "  val todaysURL = s\"https://dumps.wikimedia.org/other/pagecounts-raw/$year/$year-$month\"\n",
    "  \n",
    "  // Download todaysURL HTML page to a local folder on the Driver\n",
    "  new URL(todaysURL) #> new File(\"/home/ubuntu/databricks/driver/thisMonthsPagecountFiles.txt\") !!\n",
    "  \n",
    "  // Read the local file into String currentPagecountsWebpage\n",
    "  val source = scala.io.Source.fromFile(\"/home/ubuntu/databricks/driver/thisMonthsPagecountFiles.txt\")\n",
    "  val currentPagecountsWebpage = try source.mkString finally source.close()\n",
    "  \n",
    "  // Define a regex pattern and apply it to currentPagecountsWebpage\n",
    "  val pattern = \"<a[^>]*>([^<]+)</a>\".r\n",
    "  //val str2 = \"\"\"<li><a href=\"pagecounts-20120501-010000.gz\">pagecounts-20120501-010000.gz</a>, size 67M</li>\"\"\"\n",
    "  val pagecountNames = (pattern findAllMatchIn currentPagecountsWebpage).map(_.group(1)).mkString(\",\")\n",
    "  val items = pagecountNames.split(\",\") //This creates an items array of all the names\n",
    "  \n",
    "  // Loop through all the items, looking for just pagecount files\n",
    "  val a = scala.collection.mutable.ArrayBuffer.empty[Long]\n",
    "  for(currentItem <- items if currentItem.take(10) == \"pagecounts\") {\n",
    "    a += currentItem.drop(11).take(15).replaceAll(\"[^\\d]\", \"\").toLong\n",
    "  }\n",
    "  \n",
    "  // Find the newest timestamped file\n",
    "  val newestFile = a.reduceLeft(_ max _)\n",
    "  \n",
    "  // Construct a URL for the latest file to download and return it\n",
    "  todaysURL + \"/\" + \"pagecounts-\" + newestFile.toString.take(8) + \"-\" + newestFile.toString.drop(8) + \".gz\" //newestFile.toString.drop(7)\n",
    "}"
   ]
  },
  {
   "cell_type": "markdown",
   "metadata": {
    "collapsed": true
   },
   "source": [
    " Call the decideLatestFile() function and store the returned URL string in value 'url':"
   ]
  },
  {
   "cell_type": "code",
   "execution_count": null,
   "metadata": {
    "collapsed": true
   },
   "outputs": [],
   "source": [
    "val url = decideLatestFile()"
   ]
  },
  {
   "cell_type": "code",
   "execution_count": null,
   "metadata": {
    "collapsed": true
   },
   "outputs": [],
   "source": [
    "%sh ls -lh /home/ubuntu/databricks/driver/"
   ]
  },
  {
   "cell_type": "code",
   "execution_count": null,
   "metadata": {
    "collapsed": true
   },
   "outputs": [],
   "source": [
    "%sh cat thisMonthsPagecountFiles.txt"
   ]
  },
  {
   "cell_type": "markdown",
   "metadata": {
    "collapsed": true
   },
   "source": [
    " #### Download the latest pagecounts file to a shared S3 staging folder:"
   ]
  },
  {
   "cell_type": "markdown",
   "metadata": {
    "collapsed": true
   },
   "source": [
    " First, check which hour's pagecount file is currently in the staging folder:"
   ]
  },
  {
   "cell_type": "code",
   "execution_count": null,
   "metadata": {
    "collapsed": true
   },
   "outputs": [],
   "source": [
    "%fs ls /mnt/wikipedia-readwrite/pagecounts/staging"
   ]
  },
  {
   "cell_type": "code",
   "execution_count": null,
   "metadata": {
    "collapsed": true
   },
   "outputs": [],
   "source": [
    "// Define a function that downloads the latest file to DBFS\n",
    "def downloadLatestFile(url:String) = {\n",
    "  val baseFile = url.drop(62) //get the filename\n",
    "  val temp = s\"/home/ubuntu/databricks/driver/$baseFile\"\n",
    "  val targetDir = \"dbfs:/mnt/wikipedia-readwrite/pagecounts/staging\"\n",
    "  // Clear target directory/bucket\n",
    "  try {\n",
    "    dbutils.fs.ls(targetDir).foreach(f => dbutils.fs.rm(f.path, recurse=false))\n",
    "  }\n",
    "  catch {\n",
    "    case _: java.io.FileNotFoundException => // don't worry about it\n",
    "  }\n",
    "  \n",
    "  // Download the file to the Driver's local file system\n",
    "  new URL(url) #> new File(temp) !!\n",
    "  \n",
    "  // Copy the file from the Driver's file system to S3\n",
    "  dbutils.fs.cp(s\"file://$temp\", s\"$targetDir/$baseFile\")\n",
    "  \n",
    "  // Remove the local temporary file.\n",
    "  //s\"rm $temp\" !!\n",
    "  \n",
    "  println(s\"Sucessfully downloaded: $baseFile\")\n",
    "}"
   ]
  },
  {
   "cell_type": "markdown",
   "metadata": {
    "collapsed": true
   },
   "source": [
    " This download should take about 1-2 minutes to complete:"
   ]
  },
  {
   "cell_type": "code",
   "execution_count": null,
   "metadata": {
    "collapsed": true
   },
   "outputs": [],
   "source": [
    "downloadLatestFile(url)"
   ]
  },
  {
   "cell_type": "code",
   "execution_count": null,
   "metadata": {
    "collapsed": true
   },
   "outputs": [],
   "source": [
    "%sh ls -lh /home/ubuntu/databricks/driver/"
   ]
  },
  {
   "cell_type": "code",
   "execution_count": null,
   "metadata": {
    "collapsed": true
   },
   "outputs": [],
   "source": []
  }
 ],
 "metadata": {
  "kernelspec": {
   "display_name": "Spark-DSE Cluster",
   "language": "scala",
   "name": "spark-dse-cluster"
  },
  "language_info": {
   "name": "scala"
  }
 },
 "nbformat": 4,
 "nbformat_minor": 0
}
