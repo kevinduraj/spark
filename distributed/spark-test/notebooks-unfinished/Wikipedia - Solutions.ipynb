{
 "cells": [
  {
   "cell_type": "markdown",
   "metadata": {
    "collapsed": true
   },
   "source": [
    "// Databricks notebook source exported at Sun, 21 Feb 2016 05:12:07 UTC\n",
    " ### Solutions to Wikipedia ETL + NLP RunMe lab"
   ]
  },
  {
   "cell_type": "markdown",
   "metadata": {
    "collapsed": true
   },
   "source": [
    " **Solutions to Question #1: ** What percentage of Wikipedia articles were edited in the past week (before the data was collected)?"
   ]
  },
  {
   "cell_type": "code",
   "execution_count": null,
   "metadata": {
    "collapsed": true
   },
   "outputs": [],
   "source": [
    "// Answer to Challenge 1\n",
    "// Can you write this query using SQL? Hint: Just count all the articles where the last revision time is greater than Jan 28, 2016.\n",
    "\n",
    "%sql SELECT COUNT(*) FROM wikipedia WHERE lastrev_est_time >= DATE '2016-01-28';"
   ]
  },
  {
   "cell_type": "markdown",
   "metadata": {
    "collapsed": true
   },
   "source": [
    " **Solutions to Question #2: ** How many of the 1 million articles were last edited by [ClueBot NG](https://en.wikipedia.org/wiki/User:ClueBot_NG), an anti-vandalism bot?"
   ]
  },
  {
   "cell_type": "code",
   "execution_count": null,
   "metadata": {
    "collapsed": true
   },
   "outputs": [],
   "source": [
    "// Answer to Challenge 2\n",
    "// Write a SQL query to answer this question. The username to search for is `ClueBot BG`.\n",
    "\n",
    "%sql SELECT COUNT(*) FROM wikipedia WHERE contributorusername = \"ClueBot NG\";"
   ]
  },
  {
   "cell_type": "code",
   "execution_count": null,
   "metadata": {
    "collapsed": true
   },
   "outputs": [],
   "source": []
  }
 ],
 "metadata": {
  "kernelspec": {
   "display_name": "Spark-DSE Cluster",
   "language": "scala",
   "name": "spark-dse-cluster"
  },
  "language_info": {
   "name": "scala"
  }
 },
 "nbformat": 4,
 "nbformat_minor": 0
}
